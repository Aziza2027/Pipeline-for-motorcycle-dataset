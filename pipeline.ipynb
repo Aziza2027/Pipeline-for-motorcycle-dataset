{
 "cells": [
  {
   "cell_type": "markdown",
   "source": "# Data pipeline",
   "metadata": {
    "cell_id": "c10592339de7446d9fe23a4ffe991b7c",
    "tags": [],
    "deepnote_cell_type": "markdown",
    "deepnote_cell_height": 82
   }
  },
  {
   "cell_type": "markdown",
   "source": "A data pipeline is a means of moving data from one place (the source) to a destination (such as a data warehouse). Along the way, data is transformed and optimized, arriving in a state that can be analyzed and used to develop business insights.",
   "metadata": {
    "cell_id": "be92f8ada2f14d30beb63791f47749b6",
    "tags": [],
    "deepnote_cell_type": "markdown",
    "deepnote_cell_height": 97.171875
   }
  },
  {
   "cell_type": "markdown",
   "source": "![Picture title](image-20220525-074202.png)",
   "metadata": {
    "cell_id": "515fd64c44ce46d1bfec35823d1cab61",
    "tags": [],
    "deepnote_cell_type": "markdown",
    "deepnote_cell_height": 386.9375
   }
  },
  {
   "cell_type": "markdown",
   "source": "",
   "metadata": {
    "cell_id": "284174f72e984bb784bab406df7a4a24",
    "tags": [],
    "deepnote_cell_type": "markdown",
    "deepnote_cell_height": 46
   }
  },
  {
   "cell_type": "markdown",
   "source": "![Picture title](image-20220525-074340.png)",
   "metadata": {
    "cell_id": "193ee7a5c9d4456998b8b9621f6e8c83",
    "tags": [],
    "deepnote_cell_type": "markdown",
    "deepnote_cell_height": 451
   }
  },
  {
   "cell_type": "code",
   "metadata": {
    "cell_id": "b1f3f4d5d98c484d8e81d61ce99a7e9f",
    "tags": [],
    "deepnote_to_be_reexecuted": false,
    "source_hash": "c35e430c",
    "execution_start": 1653889304702,
    "execution_millis": 1031340,
    "deepnote_cell_type": "code",
    "deepnote_cell_height": 207
   },
   "source": "import pandas as pd\nimport joblib\n\nfrom sklearn.impute import KNNImputer\nfrom sklearn.preprocessing import OrdinalEncoder, MinMaxScaler\n\nfrom sklearn.pipeline import Pipeline, make_pipeline\nfrom sklearn.compose import ColumnTransformer",
   "execution_count": null,
   "outputs": []
  },
  {
   "cell_type": "markdown",
   "source": "## *Load data*",
   "metadata": {
    "cell_id": "abccb85a9e524175b86130d6466c59d8",
    "tags": [],
    "deepnote_cell_type": "markdown",
    "deepnote_cell_height": 70
   }
  },
  {
   "cell_type": "code",
   "metadata": {
    "tags": [],
    "cell_id": "b449bc36-6a71-4dbd-9816-f666d557e4db",
    "deepnote_to_be_reexecuted": false,
    "source_hash": "bd548988",
    "execution_start": 1653888277781,
    "execution_millis": 791,
    "deepnote_cell_type": "code",
    "deepnote_cell_height": 500.375
   },
   "source": "data = pd.read_csv('motorcycle.csv')\ndata.head()",
   "execution_count": null,
   "outputs": [
    {
     "name": "stderr",
     "text": "/shared-libs/python3.7/py-core/lib/python3.7/site-packages/IPython/core/interactiveshell.py:3257: DtypeWarning: Columns (12) have mixed types.Specify dtype option on import or set low_memory=False.\n  interactivity=interactivity, compiler=compiler, result=result)\n",
     "output_type": "stream"
    },
    {
     "output_type": "execute_result",
     "execution_count": 20,
     "data": {
      "application/vnd.deepnote.dataframe.v3+json": {
       "column_count": 28,
       "row_count": 5,
       "columns": [
        {
         "name": "Brand",
         "dtype": "object",
         "stats": {
          "unique_count": 1,
          "nan_count": 0,
          "categories": [
           {
            "name": "acabion",
            "count": 5
           }
          ]
         }
        },
        {
         "name": "Model",
         "dtype": "object",
         "stats": {
          "unique_count": 4,
          "nan_count": 0,
          "categories": [
           {
            "name": "gtbo 600 daytona-vi",
            "count": 2
           },
           {
            "name": "da vinci 650-vi",
            "count": 1
           },
           {
            "name": "2 others",
            "count": 2
           }
          ]
         }
        },
        {
         "name": "Year",
         "dtype": "int64",
         "stats": {
          "unique_count": 3,
          "nan_count": 0,
          "min": "2007",
          "max": "2021",
          "histogram": [
           {
            "bin_start": 2007,
            "bin_end": 2008.4,
            "count": 2
           },
           {
            "bin_start": 2008.4,
            "bin_end": 2009.8,
            "count": 0
           },
           {
            "bin_start": 2009.8,
            "bin_end": 2011.2,
            "count": 2
           },
           {
            "bin_start": 2011.2,
            "bin_end": 2012.6,
            "count": 0
           },
           {
            "bin_start": 2012.6,
            "bin_end": 2014,
            "count": 0
           },
           {
            "bin_start": 2014,
            "bin_end": 2015.4,
            "count": 0
           },
           {
            "bin_start": 2015.4,
            "bin_end": 2016.8,
            "count": 0
           },
           {
            "bin_start": 2016.8,
            "bin_end": 2018.2,
            "count": 0
           },
           {
            "bin_start": 2018.2,
            "bin_end": 2019.6,
            "count": 0
           },
           {
            "bin_start": 2019.6,
            "bin_end": 2021,
            "count": 1
           }
          ]
         }
        },
        {
         "name": "Category",
         "dtype": "object",
         "stats": {
          "unique_count": 2,
          "nan_count": 0,
          "categories": [
           {
            "name": "Prototype / concept model",
            "count": 4
           },
           {
            "name": "Sport",
            "count": 1
           }
          ]
         }
        },
        {
         "name": "Rating",
         "dtype": "float64",
         "stats": {
          "unique_count": 4,
          "nan_count": 1,
          "min": "2.6",
          "max": "3.5",
          "histogram": [
           {
            "bin_start": 2.6,
            "bin_end": 2.69,
            "count": 1
           },
           {
            "bin_start": 2.69,
            "bin_end": 2.7800000000000002,
            "count": 0
           },
           {
            "bin_start": 2.7800000000000002,
            "bin_end": 2.87,
            "count": 0
           },
           {
            "bin_start": 2.87,
            "bin_end": 2.96,
            "count": 0
           },
           {
            "bin_start": 2.96,
            "bin_end": 3.05,
            "count": 0
           },
           {
            "bin_start": 3.05,
            "bin_end": 3.14,
            "count": 1
           },
           {
            "bin_start": 3.14,
            "bin_end": 3.23,
            "count": 1
           },
           {
            "bin_start": 3.23,
            "bin_end": 3.3200000000000003,
            "count": 0
           },
           {
            "bin_start": 3.3200000000000003,
            "bin_end": 3.41,
            "count": 0
           },
           {
            "bin_start": 3.41,
            "bin_end": 3.5,
            "count": 1
           }
          ]
         }
        },
        {
         "name": "Displacement (ccm)",
         "dtype": "float64",
         "stats": {
          "unique_count": 1,
          "nan_count": 3,
          "min": "1300.0",
          "max": "1300.0",
          "histogram": [
           {
            "bin_start": 1299.5,
            "bin_end": 1299.6,
            "count": 0
           },
           {
            "bin_start": 1299.6,
            "bin_end": 1299.7,
            "count": 0
           },
           {
            "bin_start": 1299.7,
            "bin_end": 1299.8,
            "count": 0
           },
           {
            "bin_start": 1299.8,
            "bin_end": 1299.9,
            "count": 0
           },
           {
            "bin_start": 1299.9,
            "bin_end": 1300,
            "count": 0
           },
           {
            "bin_start": 1300,
            "bin_end": 1300.1,
            "count": 2
           },
           {
            "bin_start": 1300.1,
            "bin_end": 1300.2,
            "count": 0
           },
           {
            "bin_start": 1300.2,
            "bin_end": 1300.3,
            "count": 0
           },
           {
            "bin_start": 1300.3,
            "bin_end": 1300.4,
            "count": 0
           },
           {
            "bin_start": 1300.4,
            "bin_end": 1300.5,
            "count": 0
           }
          ]
         }
        },
        {
         "name": "Power (hp)",
         "dtype": "float64",
         "stats": {
          "unique_count": 4,
          "nan_count": 0,
          "min": "536.0",
          "max": "804.0",
          "histogram": [
           {
            "bin_start": 536,
            "bin_end": 562.8,
            "count": 3
           },
           {
            "bin_start": 562.8,
            "bin_end": 589.6,
            "count": 0
           },
           {
            "bin_start": 589.6,
            "bin_end": 616.4,
            "count": 0
           },
           {
            "bin_start": 616.4,
            "bin_end": 643.2,
            "count": 0
           },
           {
            "bin_start": 643.2,
            "bin_end": 670,
            "count": 0
           },
           {
            "bin_start": 670,
            "bin_end": 696.8,
            "count": 1
           },
           {
            "bin_start": 696.8,
            "bin_end": 723.6,
            "count": 0
           },
           {
            "bin_start": 723.6,
            "bin_end": 750.4,
            "count": 0
           },
           {
            "bin_start": 750.4,
            "bin_end": 777.2,
            "count": 0
           },
           {
            "bin_start": 777.2,
            "bin_end": 804,
            "count": 1
           }
          ]
         }
        },
        {
         "name": "Torque (Nm)",
         "dtype": "float64",
         "stats": {
          "unique_count": 2,
          "nan_count": 3,
          "min": "420.0",
          "max": "490.0",
          "histogram": [
           {
            "bin_start": 420,
            "bin_end": 427,
            "count": 1
           },
           {
            "bin_start": 427,
            "bin_end": 434,
            "count": 0
           },
           {
            "bin_start": 434,
            "bin_end": 441,
            "count": 0
           },
           {
            "bin_start": 441,
            "bin_end": 448,
            "count": 0
           },
           {
            "bin_start": 448,
            "bin_end": 455,
            "count": 0
           },
           {
            "bin_start": 455,
            "bin_end": 462,
            "count": 0
           },
           {
            "bin_start": 462,
            "bin_end": 469,
            "count": 0
           },
           {
            "bin_start": 469,
            "bin_end": 476,
            "count": 0
           },
           {
            "bin_start": 476,
            "bin_end": 483,
            "count": 0
           },
           {
            "bin_start": 483,
            "bin_end": 490,
            "count": 1
           }
          ]
         }
        },
        {
         "name": "Engine cylinder",
         "dtype": "object",
         "stats": {
          "unique_count": 2,
          "nan_count": 0,
          "categories": [
           {
            "name": "Electric",
            "count": 3
           },
           {
            "name": "In-line four",
            "count": 2
           }
          ]
         }
        },
        {
         "name": "Engine stroke",
         "dtype": "object",
         "stats": {
          "unique_count": 2,
          "nan_count": 0,
          "categories": [
           {
            "name": "Electric",
            "count": 3
           },
           {
            "name": " four-stroke",
            "count": 2
           }
          ]
         }
        },
        {
         "name": "Gearbox",
         "dtype": "object",
         "stats": {
          "unique_count": 1,
          "nan_count": 3,
          "categories": [
           {
            "name": "6-speed",
            "count": 2
           },
           {
            "name": "Missing",
            "count": 3
           }
          ]
         }
        },
        {
         "name": "Bore (mm)",
         "dtype": "float64",
         "stats": {
          "unique_count": 1,
          "nan_count": 3,
          "min": "81.0",
          "max": "81.0",
          "histogram": [
           {
            "bin_start": 80.5,
            "bin_end": 80.6,
            "count": 0
           },
           {
            "bin_start": 80.6,
            "bin_end": 80.7,
            "count": 0
           },
           {
            "bin_start": 80.7,
            "bin_end": 80.8,
            "count": 0
           },
           {
            "bin_start": 80.8,
            "bin_end": 80.9,
            "count": 0
           },
           {
            "bin_start": 80.9,
            "bin_end": 81,
            "count": 0
           },
           {
            "bin_start": 81,
            "bin_end": 81.1,
            "count": 2
           },
           {
            "bin_start": 81.1,
            "bin_end": 81.2,
            "count": 0
           },
           {
            "bin_start": 81.2,
            "bin_end": 81.3,
            "count": 0
           },
           {
            "bin_start": 81.3,
            "bin_end": 81.4,
            "count": 0
           },
           {
            "bin_start": 81.4,
            "bin_end": 81.5,
            "count": 0
           }
          ]
         }
        },
        {
         "name": "Stroke (mm)",
         "dtype": "object",
         "stats": {
          "unique_count": 1,
          "nan_count": 3,
          "categories": [
           {
            "name": "63.0",
            "count": 2
           },
           {
            "name": "Missing",
            "count": 3
           }
          ]
         }
        },
        {
         "name": "Fuel capacity (lts)",
         "dtype": "float64",
         "stats": {
          "unique_count": 0,
          "nan_count": 5,
          "min": null,
          "max": null,
          "histogram": [
           {
            "bin_start": 0,
            "bin_end": 0.1,
            "count": 0
           },
           {
            "bin_start": 0.1,
            "bin_end": 0.2,
            "count": 0
           },
           {
            "bin_start": 0.2,
            "bin_end": 0.30000000000000004,
            "count": 0
           },
           {
            "bin_start": 0.30000000000000004,
            "bin_end": 0.4,
            "count": 0
           },
           {
            "bin_start": 0.4,
            "bin_end": 0.5,
            "count": 0
           },
           {
            "bin_start": 0.5,
            "bin_end": 0.6000000000000001,
            "count": 0
           },
           {
            "bin_start": 0.6000000000000001,
            "bin_end": 0.7000000000000001,
            "count": 0
           },
           {
            "bin_start": 0.7000000000000001,
            "bin_end": 0.8,
            "count": 0
           },
           {
            "bin_start": 0.8,
            "bin_end": 0.9,
            "count": 0
           },
           {
            "bin_start": 0.9,
            "bin_end": 1,
            "count": 0
           }
          ]
         }
        },
        {
         "name": "Fuel system",
         "dtype": "object",
         "stats": {
          "unique_count": 1,
          "nan_count": 3,
          "categories": [
           {
            "name": "Turbo. KKK Acabion Extended",
            "count": 2
           },
           {
            "name": "Missing",
            "count": 3
           }
          ]
         }
        },
        {
         "name": "Fuel control",
         "dtype": "object",
         "stats": {
          "unique_count": 0,
          "nan_count": 5,
          "categories": [
           {
            "name": "Missing",
            "count": 5
           }
          ]
         }
        },
        {
         "name": "Cooling system",
         "dtype": "object",
         "stats": {
          "unique_count": 1,
          "nan_count": 0,
          "categories": [
           {
            "name": "Liquid",
            "count": 5
           }
          ]
         }
        },
        {
         "name": "Transmission type",
         "dtype": "object",
         "stats": {
          "unique_count": 1,
          "nan_count": 4,
          "categories": [
           {
            "name": "Chain",
            "count": 1
           },
           {
            "name": "Missing",
            "count": 4
           }
          ]
         }
        },
        {
         "name": "Dry weight (kg)",
         "dtype": "float64",
         "stats": {
          "unique_count": 3,
          "nan_count": 0,
          "min": "300.0",
          "max": "420.0",
          "histogram": [
           {
            "bin_start": 300,
            "bin_end": 312,
            "count": 1
           },
           {
            "bin_start": 312,
            "bin_end": 324,
            "count": 0
           },
           {
            "bin_start": 324,
            "bin_end": 336,
            "count": 0
           },
           {
            "bin_start": 336,
            "bin_end": 348,
            "count": 0
           },
           {
            "bin_start": 348,
            "bin_end": 360,
            "count": 0
           },
           {
            "bin_start": 360,
            "bin_end": 372,
            "count": 1
           },
           {
            "bin_start": 372,
            "bin_end": 384,
            "count": 0
           },
           {
            "bin_start": 384,
            "bin_end": 396,
            "count": 0
           },
           {
            "bin_start": 396,
            "bin_end": 408,
            "count": 0
           },
           {
            "bin_start": 408,
            "bin_end": 420,
            "count": 3
           }
          ]
         }
        },
        {
         "name": "Wheelbase (mm)",
         "dtype": "float64",
         "stats": {
          "unique_count": 0,
          "nan_count": 5,
          "min": null,
          "max": null,
          "histogram": [
           {
            "bin_start": 0,
            "bin_end": 0.1,
            "count": 0
           },
           {
            "bin_start": 0.1,
            "bin_end": 0.2,
            "count": 0
           },
           {
            "bin_start": 0.2,
            "bin_end": 0.30000000000000004,
            "count": 0
           },
           {
            "bin_start": 0.30000000000000004,
            "bin_end": 0.4,
            "count": 0
           },
           {
            "bin_start": 0.4,
            "bin_end": 0.5,
            "count": 0
           },
           {
            "bin_start": 0.5,
            "bin_end": 0.6000000000000001,
            "count": 0
           },
           {
            "bin_start": 0.6000000000000001,
            "bin_end": 0.7000000000000001,
            "count": 0
           },
           {
            "bin_start": 0.7000000000000001,
            "bin_end": 0.8,
            "count": 0
           },
           {
            "bin_start": 0.8,
            "bin_end": 0.9,
            "count": 0
           },
           {
            "bin_start": 0.9,
            "bin_end": 1,
            "count": 0
           }
          ]
         }
        },
        {
         "name": "Seat height (mm)",
         "dtype": "float64",
         "stats": {
          "unique_count": 0,
          "nan_count": 5,
          "min": null,
          "max": null,
          "histogram": [
           {
            "bin_start": 0,
            "bin_end": 0.1,
            "count": 0
           },
           {
            "bin_start": 0.1,
            "bin_end": 0.2,
            "count": 0
           },
           {
            "bin_start": 0.2,
            "bin_end": 0.30000000000000004,
            "count": 0
           },
           {
            "bin_start": 0.30000000000000004,
            "bin_end": 0.4,
            "count": 0
           },
           {
            "bin_start": 0.4,
            "bin_end": 0.5,
            "count": 0
           },
           {
            "bin_start": 0.5,
            "bin_end": 0.6000000000000001,
            "count": 0
           },
           {
            "bin_start": 0.6000000000000001,
            "bin_end": 0.7000000000000001,
            "count": 0
           },
           {
            "bin_start": 0.7000000000000001,
            "bin_end": 0.8,
            "count": 0
           },
           {
            "bin_start": 0.8,
            "bin_end": 0.9,
            "count": 0
           },
           {
            "bin_start": 0.9,
            "bin_end": 1,
            "count": 0
           }
          ]
         }
        },
        {
         "name": "Front brakes",
         "dtype": "object",
         "stats": {
          "unique_count": 1,
          "nan_count": 2,
          "categories": [
           {
            "name": "Single disc",
            "count": 3
           },
           {
            "name": "Missing",
            "count": 2
           }
          ]
         }
        },
        {
         "name": "Rear brakes",
         "dtype": "object",
         "stats": {
          "unique_count": 1,
          "nan_count": 2,
          "categories": [
           {
            "name": "Single disc",
            "count": 3
           },
           {
            "name": "Missing",
            "count": 2
           }
          ]
         }
        },
        {
         "name": "Front tire",
         "dtype": "object",
         "stats": {
          "unique_count": 0,
          "nan_count": 5,
          "categories": [
           {
            "name": "Missing",
            "count": 5
           }
          ]
         }
        },
        {
         "name": "Rear tire",
         "dtype": "object",
         "stats": {
          "unique_count": 0,
          "nan_count": 5,
          "categories": [
           {
            "name": "Missing",
            "count": 5
           }
          ]
         }
        },
        {
         "name": "Front suspension",
         "dtype": "object",
         "stats": {
          "unique_count": 0,
          "nan_count": 5,
          "categories": [
           {
            "name": "Missing",
            "count": 5
           }
          ]
         }
        },
        {
         "name": "Rear suspension",
         "dtype": "object",
         "stats": {
          "unique_count": 0,
          "nan_count": 5,
          "categories": [
           {
            "name": "Missing",
            "count": 5
           }
          ]
         }
        },
        {
         "name": "Color options",
         "dtype": "object",
         "stats": {
          "unique_count": 1,
          "nan_count": 4,
          "categories": [
           {
            "name": "Custom made.",
            "count": 1
           },
           {
            "name": "Missing",
            "count": 4
           }
          ]
         }
        },
        {
         "name": "_deepnote_index_column",
         "dtype": "int64"
        }
       ],
       "rows": [
        {
         "Brand": "acabion",
         "Model": "da vinci 650-vi",
         "Year": 2011,
         "Category": "Prototype / concept model",
         "Rating": 3.2,
         "Displacement (ccm)": "nan",
         "Power (hp)": 804,
         "Torque (Nm)": "nan",
         "Engine cylinder": "Electric",
         "Engine stroke": "Electric",
         "Gearbox": "nan",
         "Bore (mm)": "nan",
         "Stroke (mm)": "nan",
         "Fuel capacity (lts)": "nan",
         "Fuel system": "nan",
         "Fuel control": "nan",
         "Cooling system": "Liquid",
         "Transmission type": "Chain",
         "Dry weight (kg)": 420,
         "Wheelbase (mm)": "nan",
         "Seat height (mm)": "nan",
         "Front brakes": "Single disc",
         "Rear brakes": "Single disc",
         "Front tire": "nan",
         "Rear tire": "nan",
         "Front suspension": "nan",
         "Rear suspension": "nan",
         "Color options": "nan",
         "_deepnote_index_column": 0
        },
        {
         "Brand": "acabion",
         "Model": "gtbo 55",
         "Year": 2007,
         "Category": "Sport",
         "Rating": 2.6,
         "Displacement (ccm)": 1300,
         "Power (hp)": 541,
         "Torque (Nm)": 420,
         "Engine cylinder": "In-line four",
         "Engine stroke": " four-stroke",
         "Gearbox": "6-speed",
         "Bore (mm)": 81,
         "Stroke (mm)": "63.0",
         "Fuel capacity (lts)": "nan",
         "Fuel system": "Turbo. KKK Acabion Extended",
         "Fuel control": "nan",
         "Cooling system": "Liquid",
         "Transmission type": "nan",
         "Dry weight (kg)": 360,
         "Wheelbase (mm)": "nan",
         "Seat height (mm)": "nan",
         "Front brakes": "nan",
         "Rear brakes": "nan",
         "Front tire": "nan",
         "Rear tire": "nan",
         "Front suspension": "nan",
         "Rear suspension": "nan",
         "Color options": "nan",
         "_deepnote_index_column": 1
        },
        {
         "Brand": "acabion",
         "Model": "gtbo 600 daytona-vi",
         "Year": 2011,
         "Category": "Prototype / concept model",
         "Rating": 3.5,
         "Displacement (ccm)": "nan",
         "Power (hp)": 536,
         "Torque (Nm)": "nan",
         "Engine cylinder": "Electric",
         "Engine stroke": "Electric",
         "Gearbox": "nan",
         "Bore (mm)": "nan",
         "Stroke (mm)": "nan",
         "Fuel capacity (lts)": "nan",
         "Fuel system": "nan",
         "Fuel control": "nan",
         "Cooling system": "Liquid",
         "Transmission type": "nan",
         "Dry weight (kg)": 420,
         "Wheelbase (mm)": "nan",
         "Seat height (mm)": "nan",
         "Front brakes": "Single disc",
         "Rear brakes": "Single disc",
         "Front tire": "nan",
         "Rear tire": "nan",
         "Front suspension": "nan",
         "Rear suspension": "nan",
         "Color options": "nan",
         "_deepnote_index_column": 2
        },
        {
         "Brand": "acabion",
         "Model": "gtbo 600 daytona-vi",
         "Year": 2021,
         "Category": "Prototype / concept model",
         "Rating": "nan",
         "Displacement (ccm)": "nan",
         "Power (hp)": 536,
         "Torque (Nm)": "nan",
         "Engine cylinder": "Electric",
         "Engine stroke": "Electric",
         "Gearbox": "nan",
         "Bore (mm)": "nan",
         "Stroke (mm)": "nan",
         "Fuel capacity (lts)": "nan",
         "Fuel system": "nan",
         "Fuel control": "nan",
         "Cooling system": "Liquid",
         "Transmission type": "nan",
         "Dry weight (kg)": 420,
         "Wheelbase (mm)": "nan",
         "Seat height (mm)": "nan",
         "Front brakes": "Single disc",
         "Rear brakes": "Single disc",
         "Front tire": "nan",
         "Rear tire": "nan",
         "Front suspension": "nan",
         "Rear suspension": "nan",
         "Color options": "nan",
         "_deepnote_index_column": 3
        },
        {
         "Brand": "acabion",
         "Model": "gtbo 70",
         "Year": 2007,
         "Category": "Prototype / concept model",
         "Rating": 3.1,
         "Displacement (ccm)": 1300,
         "Power (hp)": 689,
         "Torque (Nm)": 490,
         "Engine cylinder": "In-line four",
         "Engine stroke": " four-stroke",
         "Gearbox": "6-speed",
         "Bore (mm)": 81,
         "Stroke (mm)": "63.0",
         "Fuel capacity (lts)": "nan",
         "Fuel system": "Turbo. KKK Acabion Extended",
         "Fuel control": "nan",
         "Cooling system": "Liquid",
         "Transmission type": "nan",
         "Dry weight (kg)": 300,
         "Wheelbase (mm)": "nan",
         "Seat height (mm)": "nan",
         "Front brakes": "nan",
         "Rear brakes": "nan",
         "Front tire": "nan",
         "Rear tire": "nan",
         "Front suspension": "nan",
         "Rear suspension": "nan",
         "Color options": "Custom made.",
         "_deepnote_index_column": 4
        }
       ]
      },
      "text/plain": "     Brand                Model  Year                   Category  Rating  \\\n0  acabion      da vinci 650-vi  2011  Prototype / concept model     3.2   \n1  acabion              gtbo 55  2007                      Sport     2.6   \n2  acabion  gtbo 600 daytona-vi  2011  Prototype / concept model     3.5   \n3  acabion  gtbo 600 daytona-vi  2021  Prototype / concept model     NaN   \n4  acabion              gtbo 70  2007  Prototype / concept model     3.1   \n\n   Displacement (ccm)  Power (hp)  Torque (Nm) Engine cylinder Engine stroke  \\\n0                 NaN       804.0          NaN        Electric      Electric   \n1              1300.0       541.0        420.0    In-line four   four-stroke   \n2                 NaN       536.0          NaN        Electric      Electric   \n3                 NaN       536.0          NaN        Electric      Electric   \n4              1300.0       689.0        490.0    In-line four   four-stroke   \n\n   ... Dry weight (kg)  Wheelbase (mm) Seat height (mm)  Front brakes  \\\n0  ...           420.0             NaN              NaN   Single disc   \n1  ...           360.0             NaN              NaN           NaN   \n2  ...           420.0             NaN              NaN   Single disc   \n3  ...           420.0             NaN              NaN   Single disc   \n4  ...           300.0             NaN              NaN           NaN   \n\n   Rear brakes Front tire Rear tire Front suspension  Rear suspension  \\\n0  Single disc        NaN       NaN              NaN              NaN   \n1          NaN        NaN       NaN              NaN              NaN   \n2  Single disc        NaN       NaN              NaN              NaN   \n3  Single disc        NaN       NaN              NaN              NaN   \n4          NaN        NaN       NaN              NaN              NaN   \n\n   Color options  \n0            NaN  \n1            NaN  \n2            NaN  \n3            NaN  \n4   Custom made.  \n\n[5 rows x 28 columns]",
      "text/html": "<div>\n<style scoped>\n    .dataframe tbody tr th:only-of-type {\n        vertical-align: middle;\n    }\n\n    .dataframe tbody tr th {\n        vertical-align: top;\n    }\n\n    .dataframe thead th {\n        text-align: right;\n    }\n</style>\n<table border=\"1\" class=\"dataframe\">\n  <thead>\n    <tr style=\"text-align: right;\">\n      <th></th>\n      <th>Brand</th>\n      <th>Model</th>\n      <th>Year</th>\n      <th>Category</th>\n      <th>Rating</th>\n      <th>Displacement (ccm)</th>\n      <th>Power (hp)</th>\n      <th>Torque (Nm)</th>\n      <th>Engine cylinder</th>\n      <th>Engine stroke</th>\n      <th>...</th>\n      <th>Dry weight (kg)</th>\n      <th>Wheelbase (mm)</th>\n      <th>Seat height (mm)</th>\n      <th>Front brakes</th>\n      <th>Rear brakes</th>\n      <th>Front tire</th>\n      <th>Rear tire</th>\n      <th>Front suspension</th>\n      <th>Rear suspension</th>\n      <th>Color options</th>\n    </tr>\n  </thead>\n  <tbody>\n    <tr>\n      <th>0</th>\n      <td>acabion</td>\n      <td>da vinci 650-vi</td>\n      <td>2011</td>\n      <td>Prototype / concept model</td>\n      <td>3.2</td>\n      <td>NaN</td>\n      <td>804.0</td>\n      <td>NaN</td>\n      <td>Electric</td>\n      <td>Electric</td>\n      <td>...</td>\n      <td>420.0</td>\n      <td>NaN</td>\n      <td>NaN</td>\n      <td>Single disc</td>\n      <td>Single disc</td>\n      <td>NaN</td>\n      <td>NaN</td>\n      <td>NaN</td>\n      <td>NaN</td>\n      <td>NaN</td>\n    </tr>\n    <tr>\n      <th>1</th>\n      <td>acabion</td>\n      <td>gtbo 55</td>\n      <td>2007</td>\n      <td>Sport</td>\n      <td>2.6</td>\n      <td>1300.0</td>\n      <td>541.0</td>\n      <td>420.0</td>\n      <td>In-line four</td>\n      <td>four-stroke</td>\n      <td>...</td>\n      <td>360.0</td>\n      <td>NaN</td>\n      <td>NaN</td>\n      <td>NaN</td>\n      <td>NaN</td>\n      <td>NaN</td>\n      <td>NaN</td>\n      <td>NaN</td>\n      <td>NaN</td>\n      <td>NaN</td>\n    </tr>\n    <tr>\n      <th>2</th>\n      <td>acabion</td>\n      <td>gtbo 600 daytona-vi</td>\n      <td>2011</td>\n      <td>Prototype / concept model</td>\n      <td>3.5</td>\n      <td>NaN</td>\n      <td>536.0</td>\n      <td>NaN</td>\n      <td>Electric</td>\n      <td>Electric</td>\n      <td>...</td>\n      <td>420.0</td>\n      <td>NaN</td>\n      <td>NaN</td>\n      <td>Single disc</td>\n      <td>Single disc</td>\n      <td>NaN</td>\n      <td>NaN</td>\n      <td>NaN</td>\n      <td>NaN</td>\n      <td>NaN</td>\n    </tr>\n    <tr>\n      <th>3</th>\n      <td>acabion</td>\n      <td>gtbo 600 daytona-vi</td>\n      <td>2021</td>\n      <td>Prototype / concept model</td>\n      <td>NaN</td>\n      <td>NaN</td>\n      <td>536.0</td>\n      <td>NaN</td>\n      <td>Electric</td>\n      <td>Electric</td>\n      <td>...</td>\n      <td>420.0</td>\n      <td>NaN</td>\n      <td>NaN</td>\n      <td>Single disc</td>\n      <td>Single disc</td>\n      <td>NaN</td>\n      <td>NaN</td>\n      <td>NaN</td>\n      <td>NaN</td>\n      <td>NaN</td>\n    </tr>\n    <tr>\n      <th>4</th>\n      <td>acabion</td>\n      <td>gtbo 70</td>\n      <td>2007</td>\n      <td>Prototype / concept model</td>\n      <td>3.1</td>\n      <td>1300.0</td>\n      <td>689.0</td>\n      <td>490.0</td>\n      <td>In-line four</td>\n      <td>four-stroke</td>\n      <td>...</td>\n      <td>300.0</td>\n      <td>NaN</td>\n      <td>NaN</td>\n      <td>NaN</td>\n      <td>NaN</td>\n      <td>NaN</td>\n      <td>NaN</td>\n      <td>NaN</td>\n      <td>NaN</td>\n      <td>Custom made.</td>\n    </tr>\n  </tbody>\n</table>\n<p>5 rows × 28 columns</p>\n</div>"
     },
     "metadata": {}
    }
   ]
  },
  {
   "cell_type": "markdown",
   "source": "***Data description:***\n<br>\n\n1.  **Brand**  - brand name of the motorcycle\n2.  **Model**  - model name of the motorcycle\n3.  **Year**  - year the motorcycle was built\n4.  **Category**  - sub-class the motorcycle belongs to in the market (style of motorcycle)\n5.  **Rating**  - review average out of 5 stars\n6.  **Displacement (ccm)**  - engine size of the motorcycle in cubic centimeters (ccm)\n7.  **Power (hp)**  - max power output in horsepower (hp) and kilowatt (kW) along with peak power rpm\n8.  **Torque (Nm)**  - max torque in newton-meters (Nm) and foot-pounds (ft-lbs) along with peak torque rpm\n9.  **Engine cylinder**  - number of cylinders in the engine as well as configuration\n10.  **Engine stroke**  - number of stages to complete one power stroke of the engine\n11.  **Gearbox**  - number of gears in transmission\n12.  **Bore (mm)**  - diameter of each cylinder in millimeters (mm) and inches (in)\n13.  **Stroke (mm)**  - distance within the cylinder a piston travels in millimeters (mm) and inches (in)\n14.  **Transmission type**  - type of transmission of the motorcycle\n15.  **Front brakes**  - type of front brake\n16.  **Rear brakes**  - type of rear brake\n17.  **Front tire**  - front tire size\n18.  **Rear tire**  - rear tire size\n19.  **Front suspension**  - front suspension type and configuration\n20.  **Rear suspension**  - rear suspension type and configuration\n21.  **Dry weight (kg)**  - weight of the motorcycle, without any fluids, in kilograms (kg) and pounds (lbs)\n22.  **Wheelbase (mm)**  - distance between the points where the front and rear wheels touch the ground in millimeters (mm)\n23.  **Fuel capacity (lts)**  - maximum capacity of fuel tank in liters (lts)\n24.  **Fuel system**  - fuel delivery system into engine\n25.  **Fuel control**  - valve configuration fo the engine\n26.  **Seat height (mm)**  - height from bottom of seat to the ground in millimeters (mm)\n27.  **Cooling system**  - engine cooling system\n28.  **Color options**  - different color options of the motorcycle model for that particular year  \n    dtypes: float64(9), int64(1), object(18)\n\n\n\n\n",
   "metadata": {
    "cell_id": "e51dcfec49054089af97f122fe2874c8",
    "tags": [],
    "deepnote_cell_type": "markdown",
    "deepnote_cell_height": 851.515625
   }
  },
  {
   "cell_type": "markdown",
   "source": "",
   "metadata": {
    "cell_id": "70dc02cebeaf4a97867586b764a00484",
    "tags": [],
    "deepnote_cell_type": "markdown",
    "deepnote_cell_height": 46
   }
  },
  {
   "cell_type": "code",
   "metadata": {
    "cell_id": "d0d36f2a3d094643bff981db789d4a33",
    "tags": [],
    "deepnote_to_be_reexecuted": false,
    "source_hash": "2007f58",
    "execution_start": 1653887684295,
    "execution_millis": 7,
    "deepnote_cell_type": "code",
    "deepnote_cell_height": 118.1875,
    "deepnote_output_heights": [
     21.1875
    ]
   },
   "source": "data.shape",
   "execution_count": null,
   "outputs": [
    {
     "output_type": "execute_result",
     "execution_count": 3,
     "data": {
      "text/plain": "(38472, 28)"
     },
     "metadata": {}
    }
   ]
  },
  {
   "cell_type": "code",
   "metadata": {
    "cell_id": "43d5ddccc01846af99fb169a6e3a6fcd",
    "tags": [],
    "deepnote_to_be_reexecuted": false,
    "source_hash": "957547ae",
    "execution_start": 1653887684409,
    "execution_millis": 70,
    "deepnote_cell_type": "code",
    "deepnote_cell_height": 701
   },
   "source": "data.info()",
   "execution_count": null,
   "outputs": [
    {
     "name": "stdout",
     "text": "<class 'pandas.core.frame.DataFrame'>\nRangeIndex: 38472 entries, 0 to 38471\nData columns (total 28 columns):\n #   Column               Non-Null Count  Dtype  \n---  ------               --------------  -----  \n 0   Brand                38472 non-null  object \n 1   Model                38444 non-null  object \n 2   Year                 38472 non-null  int64  \n 3   Category             38472 non-null  object \n 4   Rating               21788 non-null  float64\n 5   Displacement (ccm)   37461 non-null  float64\n 6   Power (hp)           26110 non-null  float64\n 7   Torque (Nm)          16634 non-null  float64\n 8   Engine cylinder      38461 non-null  object \n 9   Engine stroke        38461 non-null  object \n 10  Gearbox              32675 non-null  object \n 11  Bore (mm)            28689 non-null  float64\n 12  Stroke (mm)          28689 non-null  object \n 13  Fuel capacity (lts)  31704 non-null  float64\n 14  Fuel system          27844 non-null  object \n 15  Fuel control         22008 non-null  object \n 16  Cooling system       34258 non-null  object \n 17  Transmission type    32861 non-null  object \n 18  Dry weight (kg)      22483 non-null  float64\n 19  Wheelbase (mm)       25493 non-null  float64\n 20  Seat height (mm)     24182 non-null  float64\n 21  Front brakes         36889 non-null  object \n 22  Rear brakes          36696 non-null  object \n 23  Front tire           31982 non-null  object \n 24  Rear tire            32008 non-null  object \n 25  Front suspension     26109 non-null  object \n 26  Rear suspension      25625 non-null  object \n 27  Color options        24328 non-null  object \ndtypes: float64(9), int64(1), object(18)\nmemory usage: 8.2+ MB\n",
     "output_type": "stream"
    }
   ]
  },
  {
   "cell_type": "markdown",
   "source": "",
   "metadata": {
    "cell_id": "f9955cb5fd684402b9b4437191444705",
    "tags": [],
    "deepnote_cell_type": "markdown",
    "deepnote_cell_height": 46
   }
  },
  {
   "cell_type": "markdown",
   "source": "",
   "metadata": {
    "cell_id": "95a1dc6cb3594a3fadb4eabfe8d08d45",
    "tags": [],
    "deepnote_cell_type": "markdown",
    "deepnote_cell_height": 46
   }
  },
  {
   "cell_type": "code",
   "metadata": {
    "cell_id": "ff16d79fcc2a4fb4b8577675d25b132d",
    "tags": [],
    "deepnote_to_be_reexecuted": false,
    "source_hash": "d786443f",
    "execution_start": 1653887684486,
    "execution_millis": 818,
    "deepnote_cell_type": "code",
    "deepnote_cell_height": 535
   },
   "source": "data.describe()",
   "execution_count": null,
   "outputs": [
    {
     "output_type": "execute_result",
     "execution_count": 5,
     "data": {
      "application/vnd.deepnote.dataframe.v3+json": {
       "column_count": 10,
       "row_count": 8,
       "columns": [
        {
         "name": "Year",
         "dtype": "float64",
         "stats": {
          "unique_count": 8,
          "nan_count": 0,
          "min": "20.083372162846196",
          "max": "38472.0",
          "histogram": [
           {
            "bin_start": 20.083372162846196,
            "bin_end": 3865.2750349465614,
            "count": 7
           },
           {
            "bin_start": 3865.2750349465614,
            "bin_end": 7710.466697730277,
            "count": 0
           },
           {
            "bin_start": 7710.466697730277,
            "bin_end": 11555.658360513991,
            "count": 0
           },
           {
            "bin_start": 11555.658360513991,
            "bin_end": 15400.850023297708,
            "count": 0
           },
           {
            "bin_start": 15400.850023297708,
            "bin_end": 19246.041686081426,
            "count": 0
           },
           {
            "bin_start": 19246.041686081426,
            "bin_end": 23091.23334886514,
            "count": 0
           },
           {
            "bin_start": 23091.23334886514,
            "bin_end": 26936.425011648855,
            "count": 0
           },
           {
            "bin_start": 26936.425011648855,
            "bin_end": 30781.61667443257,
            "count": 0
           },
           {
            "bin_start": 30781.61667443257,
            "bin_end": 34626.80833721628,
            "count": 0
           },
           {
            "bin_start": 34626.80833721628,
            "bin_end": 38472,
            "count": 1
           }
          ]
         }
        },
        {
         "name": "Rating",
         "dtype": "float64",
         "stats": {
          "unique_count": 8,
          "nan_count": 0,
          "min": "0.3556309909166432",
          "max": "21788.0",
          "histogram": [
           {
            "bin_start": 0.3556309909166432,
            "bin_end": 2179.120067891825,
            "count": 7
           },
           {
            "bin_start": 2179.120067891825,
            "bin_end": 4357.8845047927325,
            "count": 0
           },
           {
            "bin_start": 4357.8845047927325,
            "bin_end": 6536.64894169364,
            "count": 0
           },
           {
            "bin_start": 6536.64894169364,
            "bin_end": 8715.413378594549,
            "count": 0
           },
           {
            "bin_start": 8715.413378594549,
            "bin_end": 10894.177815495457,
            "count": 0
           },
           {
            "bin_start": 10894.177815495457,
            "bin_end": 13072.942252396364,
            "count": 0
           },
           {
            "bin_start": 13072.942252396364,
            "bin_end": 15251.706689297273,
            "count": 0
           },
           {
            "bin_start": 15251.706689297273,
            "bin_end": 17430.471126198183,
            "count": 0
           },
           {
            "bin_start": 17430.471126198183,
            "bin_end": 19609.23556309909,
            "count": 0
           },
           {
            "bin_start": 19609.23556309909,
            "bin_end": 21788,
            "count": 1
           }
          ]
         }
        },
        {
         "name": "Displacement (ccm)",
         "dtype": "float64",
         "stats": {
          "unique_count": 8,
          "nan_count": 0,
          "min": "25.0",
          "max": "37461.0",
          "histogram": [
           {
            "bin_start": 25,
            "bin_end": 3768.6,
            "count": 6
           },
           {
            "bin_start": 3768.6,
            "bin_end": 7512.2,
            "count": 0
           },
           {
            "bin_start": 7512.2,
            "bin_end": 11255.8,
            "count": 1
           },
           {
            "bin_start": 11255.8,
            "bin_end": 14999.4,
            "count": 0
           },
           {
            "bin_start": 14999.4,
            "bin_end": 18743,
            "count": 0
           },
           {
            "bin_start": 18743,
            "bin_end": 22486.6,
            "count": 0
           },
           {
            "bin_start": 22486.6,
            "bin_end": 26230.2,
            "count": 0
           },
           {
            "bin_start": 26230.2,
            "bin_end": 29973.8,
            "count": 0
           },
           {
            "bin_start": 29973.8,
            "bin_end": 33717.4,
            "count": 0
           },
           {
            "bin_start": 33717.4,
            "bin_end": 37461,
            "count": 1
           }
          ]
         }
        },
        {
         "name": "Power (hp)",
         "dtype": "float64",
         "stats": {
          "unique_count": 8,
          "nan_count": 0,
          "min": "0.3",
          "max": "26110.0",
          "histogram": [
           {
            "bin_start": 0.3,
            "bin_end": 2611.2700000000004,
            "count": 7
           },
           {
            "bin_start": 2611.2700000000004,
            "bin_end": 5222.240000000001,
            "count": 0
           },
           {
            "bin_start": 5222.240000000001,
            "bin_end": 7833.210000000001,
            "count": 0
           },
           {
            "bin_start": 7833.210000000001,
            "bin_end": 10444.18,
            "count": 0
           },
           {
            "bin_start": 10444.18,
            "bin_end": 13055.150000000001,
            "count": 0
           },
           {
            "bin_start": 13055.150000000001,
            "bin_end": 15666.12,
            "count": 0
           },
           {
            "bin_start": 15666.12,
            "bin_end": 18277.09,
            "count": 0
           },
           {
            "bin_start": 18277.09,
            "bin_end": 20888.06,
            "count": 0
           },
           {
            "bin_start": 20888.06,
            "bin_end": 23499.030000000002,
            "count": 0
           },
           {
            "bin_start": 23499.030000000002,
            "bin_end": 26110,
            "count": 1
           }
          ]
         }
        },
        {
         "name": "Torque (Nm)",
         "dtype": "float64",
         "stats": {
          "unique_count": 8,
          "nan_count": 0,
          "min": "1.5",
          "max": "16634.0",
          "histogram": [
           {
            "bin_start": 1.5,
            "bin_end": 1664.75,
            "count": 7
           },
           {
            "bin_start": 1664.75,
            "bin_end": 3328,
            "count": 0
           },
           {
            "bin_start": 3328,
            "bin_end": 4991.25,
            "count": 0
           },
           {
            "bin_start": 4991.25,
            "bin_end": 6654.5,
            "count": 0
           },
           {
            "bin_start": 6654.5,
            "bin_end": 8317.75,
            "count": 0
           },
           {
            "bin_start": 8317.75,
            "bin_end": 9981,
            "count": 0
           },
           {
            "bin_start": 9981,
            "bin_end": 11644.25,
            "count": 0
           },
           {
            "bin_start": 11644.25,
            "bin_end": 13307.5,
            "count": 0
           },
           {
            "bin_start": 13307.5,
            "bin_end": 14970.75,
            "count": 0
           },
           {
            "bin_start": 14970.75,
            "bin_end": 16634,
            "count": 1
           }
          ]
         }
        },
        {
         "name": "Bore (mm)",
         "dtype": "float64",
         "stats": {
          "unique_count": 8,
          "nan_count": 0,
          "min": "1.0",
          "max": "28689.0",
          "histogram": [
           {
            "bin_start": 1,
            "bin_end": 2869.8,
            "count": 7
           },
           {
            "bin_start": 2869.8,
            "bin_end": 5738.6,
            "count": 0
           },
           {
            "bin_start": 5738.6,
            "bin_end": 8607.400000000001,
            "count": 0
           },
           {
            "bin_start": 8607.400000000001,
            "bin_end": 11476.2,
            "count": 0
           },
           {
            "bin_start": 11476.2,
            "bin_end": 14345,
            "count": 0
           },
           {
            "bin_start": 14345,
            "bin_end": 17213.800000000003,
            "count": 0
           },
           {
            "bin_start": 17213.800000000003,
            "bin_end": 20082.600000000002,
            "count": 0
           },
           {
            "bin_start": 20082.600000000002,
            "bin_end": 22951.4,
            "count": 0
           },
           {
            "bin_start": 22951.4,
            "bin_end": 25820.2,
            "count": 0
           },
           {
            "bin_start": 25820.2,
            "bin_end": 28689,
            "count": 1
           }
          ]
         }
        },
        {
         "name": "Fuel capacity (lts)",
         "dtype": "float64",
         "stats": {
          "unique_count": 8,
          "nan_count": 0,
          "min": "0.5",
          "max": "31704.0",
          "histogram": [
           {
            "bin_start": 0.5,
            "bin_end": 3170.85,
            "count": 7
           },
           {
            "bin_start": 3170.85,
            "bin_end": 6341.2,
            "count": 0
           },
           {
            "bin_start": 6341.2,
            "bin_end": 9511.55,
            "count": 0
           },
           {
            "bin_start": 9511.55,
            "bin_end": 12681.9,
            "count": 0
           },
           {
            "bin_start": 12681.9,
            "bin_end": 15852.25,
            "count": 0
           },
           {
            "bin_start": 15852.25,
            "bin_end": 19022.6,
            "count": 0
           },
           {
            "bin_start": 19022.6,
            "bin_end": 22192.95,
            "count": 0
           },
           {
            "bin_start": 22192.95,
            "bin_end": 25363.3,
            "count": 0
           },
           {
            "bin_start": 25363.3,
            "bin_end": 28533.649999999998,
            "count": 0
           },
           {
            "bin_start": 28533.649999999998,
            "bin_end": 31704,
            "count": 1
           }
          ]
         }
        },
        {
         "name": "Dry weight (kg)",
         "dtype": "float64",
         "stats": {
          "unique_count": 8,
          "nan_count": 0,
          "min": "15.1",
          "max": "22483.0",
          "histogram": [
           {
            "bin_start": 15.1,
            "bin_end": 2261.89,
            "count": 7
           },
           {
            "bin_start": 2261.89,
            "bin_end": 4508.68,
            "count": 0
           },
           {
            "bin_start": 4508.68,
            "bin_end": 6755.47,
            "count": 0
           },
           {
            "bin_start": 6755.47,
            "bin_end": 9002.26,
            "count": 0
           },
           {
            "bin_start": 9002.26,
            "bin_end": 11249.050000000001,
            "count": 0
           },
           {
            "bin_start": 11249.050000000001,
            "bin_end": 13495.84,
            "count": 0
           },
           {
            "bin_start": 13495.84,
            "bin_end": 15742.63,
            "count": 0
           },
           {
            "bin_start": 15742.63,
            "bin_end": 17989.42,
            "count": 0
           },
           {
            "bin_start": 17989.42,
            "bin_end": 20236.21,
            "count": 0
           },
           {
            "bin_start": 20236.21,
            "bin_end": 22483,
            "count": 1
           }
          ]
         }
        },
        {
         "name": "Wheelbase (mm)",
         "dtype": "float64",
         "stats": {
          "unique_count": 8,
          "nan_count": 0,
          "min": "172.64543821141223",
          "max": "25493.0",
          "histogram": [
           {
            "bin_start": 172.64543821141223,
            "bin_end": 2704.6808943902706,
            "count": 6
           },
           {
            "bin_start": 2704.6808943902706,
            "bin_end": 5236.71635056913,
            "count": 1
           },
           {
            "bin_start": 5236.71635056913,
            "bin_end": 7768.751806747988,
            "count": 0
           },
           {
            "bin_start": 7768.751806747988,
            "bin_end": 10300.787262926846,
            "count": 0
           },
           {
            "bin_start": 10300.787262926846,
            "bin_end": 12832.822719105705,
            "count": 0
           },
           {
            "bin_start": 12832.822719105705,
            "bin_end": 15364.858175284562,
            "count": 0
           },
           {
            "bin_start": 15364.858175284562,
            "bin_end": 17896.893631463423,
            "count": 0
           },
           {
            "bin_start": 17896.893631463423,
            "bin_end": 20428.929087642282,
            "count": 0
           },
           {
            "bin_start": 20428.929087642282,
            "bin_end": 22960.96454382114,
            "count": 0
           },
           {
            "bin_start": 22960.96454382114,
            "bin_end": 25493,
            "count": 1
           }
          ]
         }
        },
        {
         "name": "Seat height (mm)",
         "dtype": "float64",
         "stats": {
          "unique_count": 8,
          "nan_count": 0,
          "min": "39.0",
          "max": "24182.0",
          "histogram": [
           {
            "bin_start": 39,
            "bin_end": 2453.3,
            "count": 6
           },
           {
            "bin_start": 2453.3,
            "bin_end": 4867.6,
            "count": 0
           },
           {
            "bin_start": 4867.6,
            "bin_end": 7281.900000000001,
            "count": 0
           },
           {
            "bin_start": 7281.900000000001,
            "bin_end": 9696.2,
            "count": 1
           },
           {
            "bin_start": 9696.2,
            "bin_end": 12110.5,
            "count": 0
           },
           {
            "bin_start": 12110.5,
            "bin_end": 14524.800000000001,
            "count": 0
           },
           {
            "bin_start": 14524.800000000001,
            "bin_end": 16939.100000000002,
            "count": 0
           },
           {
            "bin_start": 16939.100000000002,
            "bin_end": 19353.4,
            "count": 0
           },
           {
            "bin_start": 19353.4,
            "bin_end": 21767.7,
            "count": 0
           },
           {
            "bin_start": 21767.7,
            "bin_end": 24182,
            "count": 1
           }
          ]
         }
        },
        {
         "name": "_deepnote_index_column",
         "dtype": "object"
        }
       ],
       "rows": [
        {
         "Year": 38472,
         "Rating": 21788,
         "Displacement (ccm)": 37461,
         "Power (hp)": 26110,
         "Torque (Nm)": 16634,
         "Bore (mm)": 28689,
         "Fuel capacity (lts)": 31704,
         "Dry weight (kg)": 22483,
         "Wheelbase (mm)": 25493,
         "Seat height (mm)": 24182,
         "_deepnote_index_column": "count"
        },
        {
         "Year": 2003.1958827199003,
         "Rating": 3.401574261061135,
         "Displacement (ccm)": 552.5150716745414,
         "Power (hp)": 50.776039831482194,
         "Torque (Nm)": 64.52717325958879,
         "Bore (mm)": 72.59671302589842,
         "Fuel capacity (lts)": 13.286191332323996,
         "Dry weight (kg)": 164.15153226882535,
         "Wheelbase (mm)": 1423.1135213588043,
         "Seat height (mm)": 789.2532462161938,
         "_deepnote_index_column": "mean"
        },
        {
         "Year": 20.083372162846196,
         "Rating": 0.3556309909166432,
         "Displacement (ccm)": 545.3949564923441,
         "Power (hp)": 52.08209360189021,
         "Torque (Nm)": 63.8846542742913,
         "Bore (mm)": 18.758621014957896,
         "Fuel capacity (lts)": 6.010669514399853,
         "Dry weight (kg)": 85.085133249761,
         "Wheelbase (mm)": 172.64543821141223,
         "Seat height (mm)": 105.49216657831224,
         "_deepnote_index_column": "std"
        },
        {
         "Year": 1894,
         "Rating": 1.4,
         "Displacement (ccm)": 25,
         "Power (hp)": 0.3,
         "Torque (Nm)": 1.5,
         "Bore (mm)": 1,
         "Fuel capacity (lts)": 0.5,
         "Dry weight (kg)": 15.1,
         "Wheelbase (mm)": 725,
         "Seat height (mm)": 39,
         "_deepnote_index_column": "min"
        },
        {
         "Year": 2000,
         "Rating": 3.2,
         "Displacement (ccm)": 125,
         "Power (hp)": 12,
         "Torque (Nm)": 12.2,
         "Bore (mm)": 57,
         "Fuel capacity (lts)": 8.2,
         "Dry weight (kg)": 105,
         "Wheelbase (mm)": 1321,
         "Seat height (mm)": 743,
         "_deepnote_index_column": "25%"
        },
        {
         "Year": 2010,
         "Rating": 3.4,
         "Displacement (ccm)": 397.2,
         "Power (hp)": 30,
         "Torque (Nm)": 57,
         "Bore (mm)": 73,
         "Fuel capacity (lts)": 13.5,
         "Dry weight (kg)": 145,
         "Wheelbase (mm)": 1422,
         "Seat height (mm)": 790,
         "_deepnote_index_column": "50%"
        },
        {
         "Year": 2016,
         "Rating": 3.7,
         "Displacement (ccm)": 805,
         "Power (hp)": 77,
         "Torque (Nm)": 102,
         "Bore (mm)": 88,
         "Fuel capacity (lts)": 17.5,
         "Dry weight (kg)": 199.6,
         "Wheelbase (mm)": 1500,
         "Seat height (mm)": 830,
         "_deepnote_index_column": "75%"
        },
        {
         "Year": 2022,
         "Rating": 4.6,
         "Displacement (ccm)": 8277,
         "Power (hp)": 804,
         "Torque (Nm)": 712,
         "Bore (mm)": 176,
         "Fuel capacity (lts)": 64.34,
         "Dry weight (kg)": 1000,
         "Wheelbase (mm)": 3327,
         "Seat height (mm)": 7501,
         "_deepnote_index_column": "max"
        }
       ]
      },
      "text/plain": "               Year        Rating  Displacement (ccm)    Power (hp)  \\\ncount  38472.000000  21788.000000        37461.000000  26110.000000   \nmean    2003.195883      3.401574          552.515072     50.776040   \nstd       20.083372      0.355631          545.394956     52.082094   \nmin     1894.000000      1.400000           25.000000      0.300000   \n25%     2000.000000      3.200000          125.000000     12.000000   \n50%     2010.000000      3.400000          397.200000     30.000000   \n75%     2016.000000      3.700000          805.000000     77.000000   \nmax     2022.000000      4.600000         8277.000000    804.000000   \n\n        Torque (Nm)     Bore (mm)  Fuel capacity (lts)  Dry weight (kg)  \\\ncount  16634.000000  28689.000000         31704.000000     22483.000000   \nmean      64.527173     72.596713            13.286191       164.151532   \nstd       63.884654     18.758621             6.010670        85.085133   \nmin        1.500000      1.000000             0.500000        15.100000   \n25%       12.200000     57.000000             8.200000       105.000000   \n50%       57.000000     73.000000            13.500000       145.000000   \n75%      102.000000     88.000000            17.500000       199.600000   \nmax      712.000000    176.000000            64.340000      1000.000000   \n\n       Wheelbase (mm)  Seat height (mm)  \ncount    25493.000000      24182.000000  \nmean      1423.113521        789.253246  \nstd        172.645438        105.492167  \nmin        725.000000         39.000000  \n25%       1321.000000        743.000000  \n50%       1422.000000        790.000000  \n75%       1500.000000        830.000000  \nmax       3327.000000       7501.000000  ",
      "text/html": "<div>\n<style scoped>\n    .dataframe tbody tr th:only-of-type {\n        vertical-align: middle;\n    }\n\n    .dataframe tbody tr th {\n        vertical-align: top;\n    }\n\n    .dataframe thead th {\n        text-align: right;\n    }\n</style>\n<table border=\"1\" class=\"dataframe\">\n  <thead>\n    <tr style=\"text-align: right;\">\n      <th></th>\n      <th>Year</th>\n      <th>Rating</th>\n      <th>Displacement (ccm)</th>\n      <th>Power (hp)</th>\n      <th>Torque (Nm)</th>\n      <th>Bore (mm)</th>\n      <th>Fuel capacity (lts)</th>\n      <th>Dry weight (kg)</th>\n      <th>Wheelbase (mm)</th>\n      <th>Seat height (mm)</th>\n    </tr>\n  </thead>\n  <tbody>\n    <tr>\n      <th>count</th>\n      <td>38472.000000</td>\n      <td>21788.000000</td>\n      <td>37461.000000</td>\n      <td>26110.000000</td>\n      <td>16634.000000</td>\n      <td>28689.000000</td>\n      <td>31704.000000</td>\n      <td>22483.000000</td>\n      <td>25493.000000</td>\n      <td>24182.000000</td>\n    </tr>\n    <tr>\n      <th>mean</th>\n      <td>2003.195883</td>\n      <td>3.401574</td>\n      <td>552.515072</td>\n      <td>50.776040</td>\n      <td>64.527173</td>\n      <td>72.596713</td>\n      <td>13.286191</td>\n      <td>164.151532</td>\n      <td>1423.113521</td>\n      <td>789.253246</td>\n    </tr>\n    <tr>\n      <th>std</th>\n      <td>20.083372</td>\n      <td>0.355631</td>\n      <td>545.394956</td>\n      <td>52.082094</td>\n      <td>63.884654</td>\n      <td>18.758621</td>\n      <td>6.010670</td>\n      <td>85.085133</td>\n      <td>172.645438</td>\n      <td>105.492167</td>\n    </tr>\n    <tr>\n      <th>min</th>\n      <td>1894.000000</td>\n      <td>1.400000</td>\n      <td>25.000000</td>\n      <td>0.300000</td>\n      <td>1.500000</td>\n      <td>1.000000</td>\n      <td>0.500000</td>\n      <td>15.100000</td>\n      <td>725.000000</td>\n      <td>39.000000</td>\n    </tr>\n    <tr>\n      <th>25%</th>\n      <td>2000.000000</td>\n      <td>3.200000</td>\n      <td>125.000000</td>\n      <td>12.000000</td>\n      <td>12.200000</td>\n      <td>57.000000</td>\n      <td>8.200000</td>\n      <td>105.000000</td>\n      <td>1321.000000</td>\n      <td>743.000000</td>\n    </tr>\n    <tr>\n      <th>50%</th>\n      <td>2010.000000</td>\n      <td>3.400000</td>\n      <td>397.200000</td>\n      <td>30.000000</td>\n      <td>57.000000</td>\n      <td>73.000000</td>\n      <td>13.500000</td>\n      <td>145.000000</td>\n      <td>1422.000000</td>\n      <td>790.000000</td>\n    </tr>\n    <tr>\n      <th>75%</th>\n      <td>2016.000000</td>\n      <td>3.700000</td>\n      <td>805.000000</td>\n      <td>77.000000</td>\n      <td>102.000000</td>\n      <td>88.000000</td>\n      <td>17.500000</td>\n      <td>199.600000</td>\n      <td>1500.000000</td>\n      <td>830.000000</td>\n    </tr>\n    <tr>\n      <th>max</th>\n      <td>2022.000000</td>\n      <td>4.600000</td>\n      <td>8277.000000</td>\n      <td>804.000000</td>\n      <td>712.000000</td>\n      <td>176.000000</td>\n      <td>64.340000</td>\n      <td>1000.000000</td>\n      <td>3327.000000</td>\n      <td>7501.000000</td>\n    </tr>\n  </tbody>\n</table>\n</div>"
     },
     "metadata": {}
    }
   ]
  },
  {
   "cell_type": "markdown",
   "source": "## *Feature engineering*",
   "metadata": {
    "cell_id": "60d801677dd341a4b1a6d2993a57f15a",
    "tags": [],
    "deepnote_cell_type": "markdown",
    "deepnote_cell_height": 70
   }
  },
  {
   "cell_type": "markdown",
   "source": "### Filling missing values(KNN imputer)",
   "metadata": {
    "cell_id": "c12b787d75ca485894402742359ee123",
    "tags": [],
    "deepnote_cell_type": "markdown",
    "deepnote_cell_height": 62
   }
  },
  {
   "cell_type": "code",
   "metadata": {
    "cell_id": "24b268e9abff43ad92aeb977cd271180",
    "tags": [],
    "deepnote_to_be_reexecuted": false,
    "source_hash": "c70742ad",
    "execution_start": 1653887684814,
    "execution_millis": 492,
    "deepnote_cell_type": "code",
    "deepnote_cell_height": 655.4375,
    "deepnote_output_heights": [
     558.4375
    ]
   },
   "source": "data.isna().sum()",
   "execution_count": null,
   "outputs": [
    {
     "output_type": "execute_result",
     "execution_count": 6,
     "data": {
      "text/plain": "Brand                      0\nModel                     28\nYear                       0\nCategory                   0\nRating                 16684\nDisplacement (ccm)      1011\nPower (hp)             12362\nTorque (Nm)            21838\nEngine cylinder           11\nEngine stroke             11\nGearbox                 5797\nBore (mm)               9783\nStroke (mm)             9783\nFuel capacity (lts)     6768\nFuel system            10628\nFuel control           16464\nCooling system          4214\nTransmission type       5611\nDry weight (kg)        15989\nWheelbase (mm)         12979\nSeat height (mm)       14290\nFront brakes            1583\nRear brakes             1776\nFront tire              6490\nRear tire               6464\nFront suspension       12363\nRear suspension        12847\nColor options          14144\ndtype: int64"
     },
     "metadata": {}
    }
   ]
  },
  {
   "cell_type": "code",
   "metadata": {
    "cell_id": "8f2db3cc658b4cbcb2ef9cf0c4211383",
    "tags": [],
    "deepnote_to_be_reexecuted": false,
    "source_hash": "96d988f7",
    "execution_start": 1653887684969,
    "execution_millis": 337,
    "deepnote_cell_type": "code",
    "deepnote_cell_height": 118.1875,
    "deepnote_output_heights": [
     21.1875
    ]
   },
   "source": "len(data._get_numeric_data().columns)",
   "execution_count": null,
   "outputs": [
    {
     "output_type": "execute_result",
     "execution_count": 7,
     "data": {
      "text/plain": "10"
     },
     "metadata": {}
    }
   ]
  },
  {
   "cell_type": "code",
   "metadata": {
    "cell_id": "7931ef708f384fff98334fa601712f61",
    "tags": [],
    "deepnote_to_be_reexecuted": false,
    "source_hash": "6fa5868",
    "execution_start": 1653887685022,
    "execution_millis": 372,
    "deepnote_cell_type": "code",
    "deepnote_cell_height": 617
   },
   "source": "data.select_dtypes(include=['object'])",
   "execution_count": null,
   "outputs": [
    {
     "output_type": "execute_result",
     "execution_count": 8,
     "data": {
      "application/vnd.deepnote.dataframe.v3+json": {
       "column_count": 18,
       "row_count": 38472,
       "columns": [
        {
         "name": "Brand",
         "dtype": "object",
         "stats": {
          "unique_count": 576,
          "nan_count": 0,
          "categories": [
           {
            "name": "yamaha",
            "count": 3414
           },
           {
            "name": "honda",
            "count": 3318
           },
           {
            "name": "574 others",
            "count": 31740
           }
          ]
         }
        },
        {
         "name": "Model",
         "dtype": "object",
         "stats": {
          "unique_count": 17731,
          "nan_count": 28,
          "categories": [
           {
            "name": "servi-car ge",
            "count": 38
           },
           {
            "name": "17730 others",
            "count": 38406
           },
           {
            "name": "Missing",
            "count": 28
           }
          ]
         }
        },
        {
         "name": "Category",
         "dtype": "object"
        },
        {
         "name": "Engine cylinder",
         "dtype": "object"
        },
        {
         "name": "Engine stroke",
         "dtype": "object"
        },
        {
         "name": "Gearbox",
         "dtype": "object"
        },
        {
         "name": "Stroke (mm)",
         "dtype": "object"
        },
        {
         "name": "Fuel system",
         "dtype": "object"
        },
        {
         "name": "Fuel control",
         "dtype": "object"
        },
        {
         "name": "Cooling system",
         "dtype": "object"
        },
        {
         "name": "Transmission type",
         "dtype": "object"
        },
        {
         "name": "Front brakes",
         "dtype": "object"
        },
        {
         "name": "Rear brakes",
         "dtype": "object"
        },
        {
         "name": "Front tire",
         "dtype": "object"
        },
        {
         "name": "Rear tire",
         "dtype": "object"
        },
        {
         "name": "Front suspension",
         "dtype": "object"
        },
        {
         "name": "Rear suspension",
         "dtype": "object"
        },
        {
         "name": "Color options",
         "dtype": "object"
        },
        {
         "name": "_deepnote_index_column",
         "dtype": "int64"
        }
       ],
       "rows": [
        {
         "Brand": "acabion",
         "Model": "da vinci 650-vi",
         "Category": "Prototype / concept model",
         "Engine cylinder": "Electric",
         "Engine stroke": "Electric",
         "Gearbox": "nan",
         "Stroke (mm)": "nan",
         "Fuel system": "nan",
         "Fuel control": "nan",
         "Cooling system": "Liquid",
         "Transmission type": "Chain",
         "Front brakes": "Single disc",
         "Rear brakes": "Single disc",
         "Front tire": "nan",
         "Rear tire": "nan",
         "Front suspension": "nan",
         "Rear suspension": "nan",
         "Color options": "nan",
         "_deepnote_index_column": 0
        },
        {
         "Brand": "acabion",
         "Model": "gtbo 55",
         "Category": "Sport",
         "Engine cylinder": "In-line four",
         "Engine stroke": " four-stroke",
         "Gearbox": "6-speed",
         "Stroke (mm)": "63.0",
         "Fuel system": "Turbo. KKK Acabion Extended",
         "Fuel control": "nan",
         "Cooling system": "Liquid",
         "Transmission type": "nan",
         "Front brakes": "nan",
         "Rear brakes": "nan",
         "Front tire": "nan",
         "Rear tire": "nan",
         "Front suspension": "nan",
         "Rear suspension": "nan",
         "Color options": "nan",
         "_deepnote_index_column": 1
        },
        {
         "Brand": "acabion",
         "Model": "gtbo 600 daytona-vi",
         "Category": "Prototype / concept model",
         "Engine cylinder": "Electric",
         "Engine stroke": "Electric",
         "Gearbox": "nan",
         "Stroke (mm)": "nan",
         "Fuel system": "nan",
         "Fuel control": "nan",
         "Cooling system": "Liquid",
         "Transmission type": "nan",
         "Front brakes": "Single disc",
         "Rear brakes": "Single disc",
         "Front tire": "nan",
         "Rear tire": "nan",
         "Front suspension": "nan",
         "Rear suspension": "nan",
         "Color options": "nan",
         "_deepnote_index_column": 2
        },
        {
         "Brand": "acabion",
         "Model": "gtbo 600 daytona-vi",
         "Category": "Prototype / concept model",
         "Engine cylinder": "Electric",
         "Engine stroke": "Electric",
         "Gearbox": "nan",
         "Stroke (mm)": "nan",
         "Fuel system": "nan",
         "Fuel control": "nan",
         "Cooling system": "Liquid",
         "Transmission type": "nan",
         "Front brakes": "Single disc",
         "Rear brakes": "Single disc",
         "Front tire": "nan",
         "Rear tire": "nan",
         "Front suspension": "nan",
         "Rear suspension": "nan",
         "Color options": "nan",
         "_deepnote_index_column": 3
        },
        {
         "Brand": "acabion",
         "Model": "gtbo 70",
         "Category": "Prototype / concept model",
         "Engine cylinder": "In-line four",
         "Engine stroke": " four-stroke",
         "Gearbox": "6-speed",
         "Stroke (mm)": "63.0",
         "Fuel system": "Turbo. KKK Acabion Extended",
         "Fuel control": "nan",
         "Cooling system": "Liquid",
         "Transmission type": "nan",
         "Front brakes": "nan",
         "Rear brakes": "nan",
         "Front tire": "nan",
         "Rear tire": "nan",
         "Front suspension": "nan",
         "Rear suspension": "nan",
         "Color options": "Custom made.",
         "_deepnote_index_column": 4
        },
        {
         "Brand": "access",
         "Model": "37 offroad e-scooter",
         "Category": "Scooter",
         "Engine cylinder": "Electric",
         "Engine stroke": "Electric",
         "Gearbox": "Automatic",
         "Stroke (mm)": "nan",
         "Fuel system": "nan",
         "Fuel control": "nan",
         "Cooling system": "nan",
         "Transmission type": "Chain",
         "Front brakes": "Single disc",
         "Rear brakes": "Single disc",
         "Front tire": "145/70-6 ",
         "Rear tire": "145/70-6 ",
         "Front suspension": "nan",
         "Rear suspension": "nan",
         "Color options": "Black/orange/white",
         "_deepnote_index_column": 5
        },
        {
         "Brand": "access",
         "Model": "ams 3.20 supercross",
         "Category": "ATV",
         "Engine cylinder": "Single cylinder",
         "Engine stroke": " four-stroke",
         "Gearbox": "Automatic",
         "Stroke (mm)": "nan",
         "Fuel system": "Carburettor",
         "Fuel control": "Overhead Valves (OHV)",
         "Cooling system": "Air",
         "Transmission type": "Chain",
         "Front brakes": "Single disc",
         "Rear brakes": "Single disc",
         "Front tire": "21/7-10 ",
         "Rear tire": "20/11-9 ",
         "Front suspension": "nan",
         "Rear suspension": "nan",
         "Color options": "Black, white",
         "_deepnote_index_column": 6
        },
        {
         "Brand": "access",
         "Model": "ams 4.30 supermoto efi",
         "Category": "ATV",
         "Engine cylinder": "Single cylinder",
         "Engine stroke": " four-stroke",
         "Gearbox": "Automatic",
         "Stroke (mm)": "nan",
         "Fuel system": "Injection. EFI",
         "Fuel control": "Overhead Cams (OHC)",
         "Cooling system": "Air",
         "Transmission type": "Chain",
         "Front brakes": "Single disc",
         "Rear brakes": "Single disc",
         "Front tire": "165/70-10 ",
         "Rear tire": "225/40-10 ",
         "Front suspension": "nan",
         "Rear suspension": "nan",
         "Color options": "Silver/red/black",
         "_deepnote_index_column": 7
        },
        {
         "Brand": "access",
         "Model": "ams 4.38 sm gear shift",
         "Category": "ATV",
         "Engine cylinder": "Single cylinder",
         "Engine stroke": " four-stroke",
         "Gearbox": "5-speed",
         "Stroke (mm)": "nan",
         "Fuel system": "Carburettor",
         "Fuel control": "Overhead Cams (OHC)",
         "Cooling system": "Air",
         "Transmission type": "Chain",
         "Front brakes": "Single disc",
         "Rear brakes": "Single disc",
         "Front tire": "165/70-10 ",
         "Rear tire": "225/40-10 ",
         "Front suspension": "Double A-Arm",
         "Rear suspension": "nan",
         "Color options": "Black, white",
         "_deepnote_index_column": 8
        },
        {
         "Brand": "access",
         "Model": "ams 4.38 sx gear shift",
         "Category": "ATV",
         "Engine cylinder": "Single cylinder",
         "Engine stroke": " four-stroke",
         "Gearbox": "5-speed",
         "Stroke (mm)": "nan",
         "Fuel system": "Carburettor",
         "Fuel control": "Overhead Cams (OHC)",
         "Cooling system": "Air",
         "Transmission type": "Chain",
         "Front brakes": "Single disc",
         "Rear brakes": "Single disc",
         "Front tire": "21/7-10 ",
         "Rear tire": "20/11-9 ",
         "Front suspension": "Double A-Arm",
         "Rear suspension": "nan",
         "Color options": "Black, white",
         "_deepnote_index_column": 9
        }
       ]
      },
      "text/plain": "         Brand                Model                   Category  \\\n0      acabion      da vinci 650-vi  Prototype / concept model   \n1      acabion              gtbo 55                      Sport   \n2      acabion  gtbo 600 daytona-vi  Prototype / concept model   \n3      acabion  gtbo 600 daytona-vi  Prototype / concept model   \n4      acabion              gtbo 70  Prototype / concept model   \n...        ...                  ...                        ...   \n38467  zündapp                 z 22                      Sport   \n38468  zündapp                z 249                      Sport   \n38469  zündapp                z 249                      Sport   \n38470  zündapp                z 300                      Sport   \n38471  zündapp                z 300                      Sport   \n\n       Engine cylinder Engine stroke  Gearbox Stroke (mm)  \\\n0             Electric      Electric      NaN         NaN   \n1         In-line four   four-stroke  6-speed        63.0   \n2             Electric      Electric      NaN         NaN   \n3             Electric      Electric      NaN         NaN   \n4         In-line four   four-stroke  6-speed        63.0   \n...                ...           ...      ...         ...   \n38467  Single cylinder    two-stroke      NaN        70.0   \n38468  Single cylinder    two-stroke  3-speed        82.5   \n38469  Single cylinder    two-stroke  3-speed        82.5   \n38470  Single cylinder    two-stroke      NaN        82.5   \n38471  Single cylinder    two-stroke      NaN        82.5   \n\n                       Fuel system           Fuel control Cooling system  \\\n0                              NaN                    NaN         Liquid   \n1      Turbo. KKK Acabion Extended                    NaN         Liquid   \n2                              NaN                    NaN         Liquid   \n3                              NaN                    NaN         Liquid   \n4      Turbo. KKK Acabion Extended                    NaN         Liquid   \n...                            ...                    ...            ...   \n38467                  Carburettor                    NaN            Air   \n38468                  Carburettor                    NaN            Air   \n38469                  Carburettor                    NaN            Air   \n38470                  Carburettor  Overhead Valves (OHV)            Air   \n38471                  Carburettor  Overhead Valves (OHV)            Air   \n\n      Transmission type                  Front brakes  \\\n0                 Chain                   Single disc   \n1                   NaN                           NaN   \n2                   NaN                   Single disc   \n3                   NaN                   Single disc   \n4                   NaN                           NaN   \n...                 ...                           ...   \n38467              Belt                           NaN   \n38468              Belt  Expanding brake (drum brake)   \n38469              Belt  Expanding brake (drum brake)   \n38470             Chain  Expanding brake (drum brake)   \n38471             Chain  Expanding brake (drum brake)   \n\n                        Rear brakes Front tire Rear tire Front suspension  \\\n0                       Single disc        NaN       NaN              NaN   \n1                               NaN        NaN       NaN              NaN   \n2                       Single disc        NaN       NaN              NaN   \n3                       Single disc        NaN       NaN              NaN   \n4                               NaN        NaN       NaN              NaN   \n...                             ...        ...       ...              ...   \n38467                           NaN   2.25-24   2.25-24       Druid  fork   \n38468  Expanding brake (drum brake)   2.25-24   2.25-24       Druid  fork   \n38469  Expanding brake (drum brake)   2.25-24   2.25-24       Druid  fork   \n38470  Expanding brake (drum brake)   2.85-26   2.85-26               NaN   \n38471  Expanding brake (drum brake)   2.85-26   2.85-26               NaN   \n\n      Rear suspension Color options  \n0                 NaN           NaN  \n1                 NaN           NaN  \n2                 NaN           NaN  \n3                 NaN           NaN  \n4                 NaN  Custom made.  \n...               ...           ...  \n38467           Rigid           NaN  \n38468           Rigid           NaN  \n38469           Rigid           NaN  \n38470             NaN           NaN  \n38471             NaN           NaN  \n\n[38472 rows x 18 columns]",
      "text/html": "<div>\n<style scoped>\n    .dataframe tbody tr th:only-of-type {\n        vertical-align: middle;\n    }\n\n    .dataframe tbody tr th {\n        vertical-align: top;\n    }\n\n    .dataframe thead th {\n        text-align: right;\n    }\n</style>\n<table border=\"1\" class=\"dataframe\">\n  <thead>\n    <tr style=\"text-align: right;\">\n      <th></th>\n      <th>Brand</th>\n      <th>Model</th>\n      <th>Category</th>\n      <th>Engine cylinder</th>\n      <th>Engine stroke</th>\n      <th>Gearbox</th>\n      <th>Stroke (mm)</th>\n      <th>Fuel system</th>\n      <th>Fuel control</th>\n      <th>Cooling system</th>\n      <th>Transmission type</th>\n      <th>Front brakes</th>\n      <th>Rear brakes</th>\n      <th>Front tire</th>\n      <th>Rear tire</th>\n      <th>Front suspension</th>\n      <th>Rear suspension</th>\n      <th>Color options</th>\n    </tr>\n  </thead>\n  <tbody>\n    <tr>\n      <th>0</th>\n      <td>acabion</td>\n      <td>da vinci 650-vi</td>\n      <td>Prototype / concept model</td>\n      <td>Electric</td>\n      <td>Electric</td>\n      <td>NaN</td>\n      <td>NaN</td>\n      <td>NaN</td>\n      <td>NaN</td>\n      <td>Liquid</td>\n      <td>Chain</td>\n      <td>Single disc</td>\n      <td>Single disc</td>\n      <td>NaN</td>\n      <td>NaN</td>\n      <td>NaN</td>\n      <td>NaN</td>\n      <td>NaN</td>\n    </tr>\n    <tr>\n      <th>1</th>\n      <td>acabion</td>\n      <td>gtbo 55</td>\n      <td>Sport</td>\n      <td>In-line four</td>\n      <td>four-stroke</td>\n      <td>6-speed</td>\n      <td>63.0</td>\n      <td>Turbo. KKK Acabion Extended</td>\n      <td>NaN</td>\n      <td>Liquid</td>\n      <td>NaN</td>\n      <td>NaN</td>\n      <td>NaN</td>\n      <td>NaN</td>\n      <td>NaN</td>\n      <td>NaN</td>\n      <td>NaN</td>\n      <td>NaN</td>\n    </tr>\n    <tr>\n      <th>2</th>\n      <td>acabion</td>\n      <td>gtbo 600 daytona-vi</td>\n      <td>Prototype / concept model</td>\n      <td>Electric</td>\n      <td>Electric</td>\n      <td>NaN</td>\n      <td>NaN</td>\n      <td>NaN</td>\n      <td>NaN</td>\n      <td>Liquid</td>\n      <td>NaN</td>\n      <td>Single disc</td>\n      <td>Single disc</td>\n      <td>NaN</td>\n      <td>NaN</td>\n      <td>NaN</td>\n      <td>NaN</td>\n      <td>NaN</td>\n    </tr>\n    <tr>\n      <th>3</th>\n      <td>acabion</td>\n      <td>gtbo 600 daytona-vi</td>\n      <td>Prototype / concept model</td>\n      <td>Electric</td>\n      <td>Electric</td>\n      <td>NaN</td>\n      <td>NaN</td>\n      <td>NaN</td>\n      <td>NaN</td>\n      <td>Liquid</td>\n      <td>NaN</td>\n      <td>Single disc</td>\n      <td>Single disc</td>\n      <td>NaN</td>\n      <td>NaN</td>\n      <td>NaN</td>\n      <td>NaN</td>\n      <td>NaN</td>\n    </tr>\n    <tr>\n      <th>4</th>\n      <td>acabion</td>\n      <td>gtbo 70</td>\n      <td>Prototype / concept model</td>\n      <td>In-line four</td>\n      <td>four-stroke</td>\n      <td>6-speed</td>\n      <td>63.0</td>\n      <td>Turbo. KKK Acabion Extended</td>\n      <td>NaN</td>\n      <td>Liquid</td>\n      <td>NaN</td>\n      <td>NaN</td>\n      <td>NaN</td>\n      <td>NaN</td>\n      <td>NaN</td>\n      <td>NaN</td>\n      <td>NaN</td>\n      <td>Custom made.</td>\n    </tr>\n    <tr>\n      <th>...</th>\n      <td>...</td>\n      <td>...</td>\n      <td>...</td>\n      <td>...</td>\n      <td>...</td>\n      <td>...</td>\n      <td>...</td>\n      <td>...</td>\n      <td>...</td>\n      <td>...</td>\n      <td>...</td>\n      <td>...</td>\n      <td>...</td>\n      <td>...</td>\n      <td>...</td>\n      <td>...</td>\n      <td>...</td>\n      <td>...</td>\n    </tr>\n    <tr>\n      <th>38467</th>\n      <td>zündapp</td>\n      <td>z 22</td>\n      <td>Sport</td>\n      <td>Single cylinder</td>\n      <td>two-stroke</td>\n      <td>NaN</td>\n      <td>70.0</td>\n      <td>Carburettor</td>\n      <td>NaN</td>\n      <td>Air</td>\n      <td>Belt</td>\n      <td>NaN</td>\n      <td>NaN</td>\n      <td>2.25-24</td>\n      <td>2.25-24</td>\n      <td>Druid  fork</td>\n      <td>Rigid</td>\n      <td>NaN</td>\n    </tr>\n    <tr>\n      <th>38468</th>\n      <td>zündapp</td>\n      <td>z 249</td>\n      <td>Sport</td>\n      <td>Single cylinder</td>\n      <td>two-stroke</td>\n      <td>3-speed</td>\n      <td>82.5</td>\n      <td>Carburettor</td>\n      <td>NaN</td>\n      <td>Air</td>\n      <td>Belt</td>\n      <td>Expanding brake (drum brake)</td>\n      <td>Expanding brake (drum brake)</td>\n      <td>2.25-24</td>\n      <td>2.25-24</td>\n      <td>Druid  fork</td>\n      <td>Rigid</td>\n      <td>NaN</td>\n    </tr>\n    <tr>\n      <th>38469</th>\n      <td>zündapp</td>\n      <td>z 249</td>\n      <td>Sport</td>\n      <td>Single cylinder</td>\n      <td>two-stroke</td>\n      <td>3-speed</td>\n      <td>82.5</td>\n      <td>Carburettor</td>\n      <td>NaN</td>\n      <td>Air</td>\n      <td>Belt</td>\n      <td>Expanding brake (drum brake)</td>\n      <td>Expanding brake (drum brake)</td>\n      <td>2.25-24</td>\n      <td>2.25-24</td>\n      <td>Druid  fork</td>\n      <td>Rigid</td>\n      <td>NaN</td>\n    </tr>\n    <tr>\n      <th>38470</th>\n      <td>zündapp</td>\n      <td>z 300</td>\n      <td>Sport</td>\n      <td>Single cylinder</td>\n      <td>two-stroke</td>\n      <td>NaN</td>\n      <td>82.5</td>\n      <td>Carburettor</td>\n      <td>Overhead Valves (OHV)</td>\n      <td>Air</td>\n      <td>Chain</td>\n      <td>Expanding brake (drum brake)</td>\n      <td>Expanding brake (drum brake)</td>\n      <td>2.85-26</td>\n      <td>2.85-26</td>\n      <td>NaN</td>\n      <td>NaN</td>\n      <td>NaN</td>\n    </tr>\n    <tr>\n      <th>38471</th>\n      <td>zündapp</td>\n      <td>z 300</td>\n      <td>Sport</td>\n      <td>Single cylinder</td>\n      <td>two-stroke</td>\n      <td>NaN</td>\n      <td>82.5</td>\n      <td>Carburettor</td>\n      <td>Overhead Valves (OHV)</td>\n      <td>Air</td>\n      <td>Chain</td>\n      <td>Expanding brake (drum brake)</td>\n      <td>Expanding brake (drum brake)</td>\n      <td>2.85-26</td>\n      <td>2.85-26</td>\n      <td>NaN</td>\n      <td>NaN</td>\n      <td>NaN</td>\n    </tr>\n  </tbody>\n</table>\n<p>38472 rows × 18 columns</p>\n</div>"
     },
     "metadata": {}
    }
   ]
  },
  {
   "cell_type": "code",
   "metadata": {
    "cell_id": "8733be2411044c19808d1f26fabdc332",
    "tags": [],
    "deepnote_to_be_reexecuted": false,
    "source_hash": "9a10eb86",
    "execution_start": 1653888406160,
    "execution_millis": 451,
    "deepnote_cell_type": "code",
    "deepnote_cell_height": 412
   },
   "source": "data.tail()",
   "execution_count": null,
   "outputs": [
    {
     "output_type": "execute_result",
     "execution_count": 29,
     "data": {
      "application/vnd.deepnote.dataframe.v3+json": {
       "column_count": 28,
       "row_count": 5,
       "columns": [
        {
         "name": "Brand",
         "dtype": "object",
         "stats": {
          "unique_count": 1,
          "nan_count": 0,
          "categories": [
           {
            "name": "zündapp",
            "count": 5
           }
          ]
         }
        },
        {
         "name": "Model",
         "dtype": "object",
         "stats": {
          "unique_count": 3,
          "nan_count": 0,
          "categories": [
           {
            "name": "z 249",
            "count": 2
           },
           {
            "name": "z 300",
            "count": 2
           },
           {
            "name": "z 22",
            "count": 1
           }
          ]
         }
        },
        {
         "name": "Year",
         "dtype": "int64",
         "stats": {
          "unique_count": 4,
          "nan_count": 0,
          "min": "1923",
          "max": "1929",
          "histogram": [
           {
            "bin_start": 1923,
            "bin_end": 1923.6,
            "count": 1
           },
           {
            "bin_start": 1923.6,
            "bin_end": 1924.2,
            "count": 2
           },
           {
            "bin_start": 1924.2,
            "bin_end": 1924.8,
            "count": 0
           },
           {
            "bin_start": 1924.8,
            "bin_end": 1925.4,
            "count": 0
           },
           {
            "bin_start": 1925.4,
            "bin_end": 1926,
            "count": 0
           },
           {
            "bin_start": 1926,
            "bin_end": 1926.6,
            "count": 0
           },
           {
            "bin_start": 1926.6,
            "bin_end": 1927.2,
            "count": 0
           },
           {
            "bin_start": 1927.2,
            "bin_end": 1927.8,
            "count": 0
           },
           {
            "bin_start": 1927.8,
            "bin_end": 1928.4,
            "count": 1
           },
           {
            "bin_start": 1928.4,
            "bin_end": 1929,
            "count": 1
           }
          ]
         }
        },
        {
         "name": "Category",
         "dtype": "object",
         "stats": {
          "unique_count": 1,
          "nan_count": 0,
          "categories": [
           {
            "name": "Sport",
            "count": 5
           }
          ]
         }
        },
        {
         "name": "Rating",
         "dtype": "float64",
         "stats": {
          "unique_count": 0,
          "nan_count": 5,
          "min": null,
          "max": null,
          "histogram": [
           {
            "bin_start": 0,
            "bin_end": 0.1,
            "count": 0
           },
           {
            "bin_start": 0.1,
            "bin_end": 0.2,
            "count": 0
           },
           {
            "bin_start": 0.2,
            "bin_end": 0.30000000000000004,
            "count": 0
           },
           {
            "bin_start": 0.30000000000000004,
            "bin_end": 0.4,
            "count": 0
           },
           {
            "bin_start": 0.4,
            "bin_end": 0.5,
            "count": 0
           },
           {
            "bin_start": 0.5,
            "bin_end": 0.6000000000000001,
            "count": 0
           },
           {
            "bin_start": 0.6000000000000001,
            "bin_end": 0.7000000000000001,
            "count": 0
           },
           {
            "bin_start": 0.7000000000000001,
            "bin_end": 0.8,
            "count": 0
           },
           {
            "bin_start": 0.8,
            "bin_end": 0.9,
            "count": 0
           },
           {
            "bin_start": 0.9,
            "bin_end": 1,
            "count": 0
           }
          ]
         }
        },
        {
         "name": "Displacement (ccm)",
         "dtype": "float64",
         "stats": {
          "unique_count": 3,
          "nan_count": 0,
          "min": "211.0",
          "max": "298.0",
          "histogram": [
           {
            "bin_start": 211,
            "bin_end": 219.7,
            "count": 1
           },
           {
            "bin_start": 219.7,
            "bin_end": 228.4,
            "count": 0
           },
           {
            "bin_start": 228.4,
            "bin_end": 237.1,
            "count": 0
           },
           {
            "bin_start": 237.1,
            "bin_end": 245.8,
            "count": 0
           },
           {
            "bin_start": 245.8,
            "bin_end": 254.5,
            "count": 2
           },
           {
            "bin_start": 254.5,
            "bin_end": 263.2,
            "count": 0
           },
           {
            "bin_start": 263.2,
            "bin_end": 271.9,
            "count": 0
           },
           {
            "bin_start": 271.9,
            "bin_end": 280.6,
            "count": 0
           },
           {
            "bin_start": 280.6,
            "bin_end": 289.3,
            "count": 0
           },
           {
            "bin_start": 289.3,
            "bin_end": 298,
            "count": 2
           }
          ]
         }
        },
        {
         "name": "Power (hp)",
         "dtype": "float64",
         "stats": {
          "unique_count": 3,
          "nan_count": 0,
          "min": "2.3",
          "max": "26.0",
          "histogram": [
           {
            "bin_start": 2.3,
            "bin_end": 4.67,
            "count": 3
           },
           {
            "bin_start": 4.67,
            "bin_end": 7.04,
            "count": 0
           },
           {
            "bin_start": 7.04,
            "bin_end": 9.41,
            "count": 0
           },
           {
            "bin_start": 9.41,
            "bin_end": 11.780000000000001,
            "count": 0
           },
           {
            "bin_start": 11.780000000000001,
            "bin_end": 14.150000000000002,
            "count": 0
           },
           {
            "bin_start": 14.150000000000002,
            "bin_end": 16.52,
            "count": 0
           },
           {
            "bin_start": 16.52,
            "bin_end": 18.89,
            "count": 0
           },
           {
            "bin_start": 18.89,
            "bin_end": 21.26,
            "count": 0
           },
           {
            "bin_start": 21.26,
            "bin_end": 23.630000000000003,
            "count": 0
           },
           {
            "bin_start": 23.630000000000003,
            "bin_end": 26,
            "count": 2
           }
          ]
         }
        },
        {
         "name": "Torque (Nm)",
         "dtype": "float64",
         "stats": {
          "unique_count": 0,
          "nan_count": 5,
          "min": null,
          "max": null,
          "histogram": [
           {
            "bin_start": 0,
            "bin_end": 0.1,
            "count": 0
           },
           {
            "bin_start": 0.1,
            "bin_end": 0.2,
            "count": 0
           },
           {
            "bin_start": 0.2,
            "bin_end": 0.30000000000000004,
            "count": 0
           },
           {
            "bin_start": 0.30000000000000004,
            "bin_end": 0.4,
            "count": 0
           },
           {
            "bin_start": 0.4,
            "bin_end": 0.5,
            "count": 0
           },
           {
            "bin_start": 0.5,
            "bin_end": 0.6000000000000001,
            "count": 0
           },
           {
            "bin_start": 0.6000000000000001,
            "bin_end": 0.7000000000000001,
            "count": 0
           },
           {
            "bin_start": 0.7000000000000001,
            "bin_end": 0.8,
            "count": 0
           },
           {
            "bin_start": 0.8,
            "bin_end": 0.9,
            "count": 0
           },
           {
            "bin_start": 0.9,
            "bin_end": 1,
            "count": 0
           }
          ]
         }
        },
        {
         "name": "Engine cylinder",
         "dtype": "object",
         "stats": {
          "unique_count": 1,
          "nan_count": 0,
          "categories": [
           {
            "name": "Single cylinder",
            "count": 5
           }
          ]
         }
        },
        {
         "name": "Engine stroke",
         "dtype": "object",
         "stats": {
          "unique_count": 1,
          "nan_count": 0,
          "categories": [
           {
            "name": " two-stroke",
            "count": 5
           }
          ]
         }
        },
        {
         "name": "Gearbox",
         "dtype": "object",
         "stats": {
          "unique_count": 2,
          "nan_count": 0,
          "categories": [
           {
            "name": "nan",
            "count": 3
           },
           {
            "name": "3-speed",
            "count": 2
           }
          ]
         }
        },
        {
         "name": "Bore (mm)",
         "dtype": "float64",
         "stats": {
          "unique_count": 2,
          "nan_count": 0,
          "min": "62.0",
          "max": "68.0",
          "histogram": [
           {
            "bin_start": 62,
            "bin_end": 62.6,
            "count": 1
           },
           {
            "bin_start": 62.6,
            "bin_end": 63.2,
            "count": 0
           },
           {
            "bin_start": 63.2,
            "bin_end": 63.8,
            "count": 0
           },
           {
            "bin_start": 63.8,
            "bin_end": 64.4,
            "count": 0
           },
           {
            "bin_start": 64.4,
            "bin_end": 65,
            "count": 0
           },
           {
            "bin_start": 65,
            "bin_end": 65.6,
            "count": 0
           },
           {
            "bin_start": 65.6,
            "bin_end": 66.2,
            "count": 0
           },
           {
            "bin_start": 66.2,
            "bin_end": 66.8,
            "count": 0
           },
           {
            "bin_start": 66.8,
            "bin_end": 67.4,
            "count": 0
           },
           {
            "bin_start": 67.4,
            "bin_end": 68,
            "count": 4
           }
          ]
         }
        },
        {
         "name": "Stroke (mm)",
         "dtype": "object",
         "stats": {
          "unique_count": 2,
          "nan_count": 0,
          "categories": [
           {
            "name": "82.5",
            "count": 4
           },
           {
            "name": "70.0",
            "count": 1
           }
          ]
         }
        },
        {
         "name": "Fuel capacity (lts)",
         "dtype": "float64",
         "stats": {
          "unique_count": 2,
          "nan_count": 3,
          "min": "6.0",
          "max": "6.1",
          "histogram": [
           {
            "bin_start": 6,
            "bin_end": 6.01,
            "count": 1
           },
           {
            "bin_start": 6.01,
            "bin_end": 6.02,
            "count": 0
           },
           {
            "bin_start": 6.02,
            "bin_end": 6.03,
            "count": 0
           },
           {
            "bin_start": 6.03,
            "bin_end": 6.04,
            "count": 0
           },
           {
            "bin_start": 6.04,
            "bin_end": 6.05,
            "count": 0
           },
           {
            "bin_start": 6.05,
            "bin_end": 6.06,
            "count": 0
           },
           {
            "bin_start": 6.06,
            "bin_end": 6.069999999999999,
            "count": 0
           },
           {
            "bin_start": 6.069999999999999,
            "bin_end": 6.08,
            "count": 0
           },
           {
            "bin_start": 6.08,
            "bin_end": 6.09,
            "count": 0
           },
           {
            "bin_start": 6.09,
            "bin_end": 6.1,
            "count": 1
           }
          ]
         }
        },
        {
         "name": "Fuel system",
         "dtype": "object",
         "stats": {
          "unique_count": 1,
          "nan_count": 0,
          "categories": [
           {
            "name": "Carburettor",
            "count": 5
           }
          ]
         }
        },
        {
         "name": "Fuel control",
         "dtype": "object",
         "stats": {
          "unique_count": 2,
          "nan_count": 0,
          "categories": [
           {
            "name": "nan",
            "count": 3
           },
           {
            "name": "Overhead Valves (OHV)",
            "count": 2
           }
          ]
         }
        },
        {
         "name": "Cooling system",
         "dtype": "object",
         "stats": {
          "unique_count": 1,
          "nan_count": 0,
          "categories": [
           {
            "name": "Air",
            "count": 5
           }
          ]
         }
        },
        {
         "name": "Transmission type",
         "dtype": "object",
         "stats": {
          "unique_count": 2,
          "nan_count": 0,
          "categories": [
           {
            "name": "Belt",
            "count": 3
           },
           {
            "name": "Chain",
            "count": 2
           }
          ]
         }
        },
        {
         "name": "Dry weight (kg)",
         "dtype": "float64",
         "stats": {
          "unique_count": 2,
          "nan_count": 1,
          "min": "76.0",
          "max": "105.0",
          "histogram": [
           {
            "bin_start": 76,
            "bin_end": 78.9,
            "count": 2
           },
           {
            "bin_start": 78.9,
            "bin_end": 81.8,
            "count": 0
           },
           {
            "bin_start": 81.8,
            "bin_end": 84.7,
            "count": 0
           },
           {
            "bin_start": 84.7,
            "bin_end": 87.6,
            "count": 0
           },
           {
            "bin_start": 87.6,
            "bin_end": 90.5,
            "count": 0
           },
           {
            "bin_start": 90.5,
            "bin_end": 93.4,
            "count": 0
           },
           {
            "bin_start": 93.4,
            "bin_end": 96.3,
            "count": 0
           },
           {
            "bin_start": 96.3,
            "bin_end": 99.2,
            "count": 0
           },
           {
            "bin_start": 99.2,
            "bin_end": 102.1,
            "count": 0
           },
           {
            "bin_start": 102.1,
            "bin_end": 105,
            "count": 2
           }
          ]
         }
        },
        {
         "name": "Wheelbase (mm)",
         "dtype": "float64",
         "stats": {
          "unique_count": 0,
          "nan_count": 5,
          "min": null,
          "max": null,
          "histogram": [
           {
            "bin_start": 0,
            "bin_end": 0.1,
            "count": 0
           },
           {
            "bin_start": 0.1,
            "bin_end": 0.2,
            "count": 0
           },
           {
            "bin_start": 0.2,
            "bin_end": 0.30000000000000004,
            "count": 0
           },
           {
            "bin_start": 0.30000000000000004,
            "bin_end": 0.4,
            "count": 0
           },
           {
            "bin_start": 0.4,
            "bin_end": 0.5,
            "count": 0
           },
           {
            "bin_start": 0.5,
            "bin_end": 0.6000000000000001,
            "count": 0
           },
           {
            "bin_start": 0.6000000000000001,
            "bin_end": 0.7000000000000001,
            "count": 0
           },
           {
            "bin_start": 0.7000000000000001,
            "bin_end": 0.8,
            "count": 0
           },
           {
            "bin_start": 0.8,
            "bin_end": 0.9,
            "count": 0
           },
           {
            "bin_start": 0.9,
            "bin_end": 1,
            "count": 0
           }
          ]
         }
        },
        {
         "name": "Seat height (mm)",
         "dtype": "float64",
         "stats": {
          "unique_count": 0,
          "nan_count": 5,
          "min": null,
          "max": null,
          "histogram": [
           {
            "bin_start": 0,
            "bin_end": 0.1,
            "count": 0
           },
           {
            "bin_start": 0.1,
            "bin_end": 0.2,
            "count": 0
           },
           {
            "bin_start": 0.2,
            "bin_end": 0.30000000000000004,
            "count": 0
           },
           {
            "bin_start": 0.30000000000000004,
            "bin_end": 0.4,
            "count": 0
           },
           {
            "bin_start": 0.4,
            "bin_end": 0.5,
            "count": 0
           },
           {
            "bin_start": 0.5,
            "bin_end": 0.6000000000000001,
            "count": 0
           },
           {
            "bin_start": 0.6000000000000001,
            "bin_end": 0.7000000000000001,
            "count": 0
           },
           {
            "bin_start": 0.7000000000000001,
            "bin_end": 0.8,
            "count": 0
           },
           {
            "bin_start": 0.8,
            "bin_end": 0.9,
            "count": 0
           },
           {
            "bin_start": 0.9,
            "bin_end": 1,
            "count": 0
           }
          ]
         }
        },
        {
         "name": "Front brakes",
         "dtype": "object",
         "stats": {
          "unique_count": 2,
          "nan_count": 0,
          "categories": [
           {
            "name": "Expanding brake (drum brake)",
            "count": 4
           },
           {
            "name": "nan",
            "count": 1
           }
          ]
         }
        },
        {
         "name": "Rear brakes",
         "dtype": "object",
         "stats": {
          "unique_count": 2,
          "nan_count": 0,
          "categories": [
           {
            "name": "Expanding brake (drum brake)",
            "count": 4
           },
           {
            "name": "nan",
            "count": 1
           }
          ]
         }
        },
        {
         "name": "Front tire",
         "dtype": "object",
         "stats": {
          "unique_count": 2,
          "nan_count": 0,
          "categories": [
           {
            "name": "2.25-24 ",
            "count": 3
           },
           {
            "name": "2.85-26 ",
            "count": 2
           }
          ]
         }
        },
        {
         "name": "Rear tire",
         "dtype": "object",
         "stats": {
          "unique_count": 2,
          "nan_count": 0,
          "categories": [
           {
            "name": "2.25-24 ",
            "count": 3
           },
           {
            "name": "2.85-26 ",
            "count": 2
           }
          ]
         }
        },
        {
         "name": "Front suspension",
         "dtype": "object",
         "stats": {
          "unique_count": 2,
          "nan_count": 0,
          "categories": [
           {
            "name": "Druid  fork",
            "count": 3
           },
           {
            "name": "nan",
            "count": 2
           }
          ]
         }
        },
        {
         "name": "Rear suspension",
         "dtype": "object",
         "stats": {
          "unique_count": 2,
          "nan_count": 0,
          "categories": [
           {
            "name": "Rigid",
            "count": 3
           },
           {
            "name": "nan",
            "count": 2
           }
          ]
         }
        },
        {
         "name": "Color options",
         "dtype": "object",
         "stats": {
          "unique_count": 1,
          "nan_count": 0,
          "categories": [
           {
            "name": "nan",
            "count": 5
           }
          ]
         }
        },
        {
         "name": "_deepnote_index_column",
         "dtype": "int64"
        }
       ],
       "rows": [
        {
         "Brand": "zündapp",
         "Model": "z 22",
         "Year": 1924,
         "Category": "Sport",
         "Rating": "nan",
         "Displacement (ccm)": 211,
         "Power (hp)": 2.3,
         "Torque (Nm)": "nan",
         "Engine cylinder": "Single cylinder",
         "Engine stroke": " two-stroke",
         "Gearbox": "nan",
         "Bore (mm)": 62,
         "Stroke (mm)": "70.0",
         "Fuel capacity (lts)": 6,
         "Fuel system": "Carburettor",
         "Fuel control": "nan",
         "Cooling system": "Air",
         "Transmission type": "Belt",
         "Dry weight (kg)": "nan",
         "Wheelbase (mm)": "nan",
         "Seat height (mm)": "nan",
         "Front brakes": "nan",
         "Rear brakes": "nan",
         "Front tire": "2.25-24 ",
         "Rear tire": "2.25-24 ",
         "Front suspension": "Druid  fork",
         "Rear suspension": "Rigid",
         "Color options": "nan",
         "_deepnote_index_column": 38467
        },
        {
         "Brand": "zündapp",
         "Model": "z 249",
         "Year": 1923,
         "Category": "Sport",
         "Rating": "nan",
         "Displacement (ccm)": 249,
         "Power (hp)": 2.8,
         "Torque (Nm)": "nan",
         "Engine cylinder": "Single cylinder",
         "Engine stroke": " two-stroke",
         "Gearbox": "3-speed",
         "Bore (mm)": 68,
         "Stroke (mm)": "82.5",
         "Fuel capacity (lts)": 6.1,
         "Fuel system": "Carburettor",
         "Fuel control": "nan",
         "Cooling system": "Air",
         "Transmission type": "Belt",
         "Dry weight (kg)": 76,
         "Wheelbase (mm)": "nan",
         "Seat height (mm)": "nan",
         "Front brakes": "Expanding brake (drum brake)",
         "Rear brakes": "Expanding brake (drum brake)",
         "Front tire": "2.25-24 ",
         "Rear tire": "2.25-24 ",
         "Front suspension": "Druid  fork",
         "Rear suspension": "Rigid",
         "Color options": "nan",
         "_deepnote_index_column": 38468
        },
        {
         "Brand": "zündapp",
         "Model": "z 249",
         "Year": 1924,
         "Category": "Sport",
         "Rating": "nan",
         "Displacement (ccm)": 249,
         "Power (hp)": 2.8,
         "Torque (Nm)": "nan",
         "Engine cylinder": "Single cylinder",
         "Engine stroke": " two-stroke",
         "Gearbox": "3-speed",
         "Bore (mm)": 68,
         "Stroke (mm)": "82.5",
         "Fuel capacity (lts)": "nan",
         "Fuel system": "Carburettor",
         "Fuel control": "nan",
         "Cooling system": "Air",
         "Transmission type": "Belt",
         "Dry weight (kg)": 76,
         "Wheelbase (mm)": "nan",
         "Seat height (mm)": "nan",
         "Front brakes": "Expanding brake (drum brake)",
         "Rear brakes": "Expanding brake (drum brake)",
         "Front tire": "2.25-24 ",
         "Rear tire": "2.25-24 ",
         "Front suspension": "Druid  fork",
         "Rear suspension": "Rigid",
         "Color options": "nan",
         "_deepnote_index_column": 38469
        },
        {
         "Brand": "zündapp",
         "Model": "z 300",
         "Year": 1928,
         "Category": "Sport",
         "Rating": "nan",
         "Displacement (ccm)": 298,
         "Power (hp)": 26,
         "Torque (Nm)": "nan",
         "Engine cylinder": "Single cylinder",
         "Engine stroke": " two-stroke",
         "Gearbox": "nan",
         "Bore (mm)": 68,
         "Stroke (mm)": "82.5",
         "Fuel capacity (lts)": "nan",
         "Fuel system": "Carburettor",
         "Fuel control": "Overhead Valves (OHV)",
         "Cooling system": "Air",
         "Transmission type": "Chain",
         "Dry weight (kg)": 105,
         "Wheelbase (mm)": "nan",
         "Seat height (mm)": "nan",
         "Front brakes": "Expanding brake (drum brake)",
         "Rear brakes": "Expanding brake (drum brake)",
         "Front tire": "2.85-26 ",
         "Rear tire": "2.85-26 ",
         "Front suspension": "nan",
         "Rear suspension": "nan",
         "Color options": "nan",
         "_deepnote_index_column": 38470
        },
        {
         "Brand": "zündapp",
         "Model": "z 300",
         "Year": 1929,
         "Category": "Sport",
         "Rating": "nan",
         "Displacement (ccm)": 298,
         "Power (hp)": 26,
         "Torque (Nm)": "nan",
         "Engine cylinder": "Single cylinder",
         "Engine stroke": " two-stroke",
         "Gearbox": "nan",
         "Bore (mm)": 68,
         "Stroke (mm)": "82.5",
         "Fuel capacity (lts)": "nan",
         "Fuel system": "Carburettor",
         "Fuel control": "Overhead Valves (OHV)",
         "Cooling system": "Air",
         "Transmission type": "Chain",
         "Dry weight (kg)": 105,
         "Wheelbase (mm)": "nan",
         "Seat height (mm)": "nan",
         "Front brakes": "Expanding brake (drum brake)",
         "Rear brakes": "Expanding brake (drum brake)",
         "Front tire": "2.85-26 ",
         "Rear tire": "2.85-26 ",
         "Front suspension": "nan",
         "Rear suspension": "nan",
         "Color options": "nan",
         "_deepnote_index_column": 38471
        }
       ]
      },
      "text/plain": "         Brand  Model  Year Category  Rating  Displacement (ccm)  Power (hp)  \\\n38467  zündapp   z 22  1924    Sport     NaN               211.0         2.3   \n38468  zündapp  z 249  1923    Sport     NaN               249.0         2.8   \n38469  zündapp  z 249  1924    Sport     NaN               249.0         2.8   \n38470  zündapp  z 300  1928    Sport     NaN               298.0        26.0   \n38471  zündapp  z 300  1929    Sport     NaN               298.0        26.0   \n\n       Torque (Nm)  Engine cylinder Engine stroke  ... Dry weight (kg)  \\\n38467          NaN  Single cylinder    two-stroke  ...             NaN   \n38468          NaN  Single cylinder    two-stroke  ...            76.0   \n38469          NaN  Single cylinder    two-stroke  ...            76.0   \n38470          NaN  Single cylinder    two-stroke  ...           105.0   \n38471          NaN  Single cylinder    two-stroke  ...           105.0   \n\n       Wheelbase (mm) Seat height (mm)                  Front brakes  \\\n38467             NaN              NaN                           nan   \n38468             NaN              NaN  Expanding brake (drum brake)   \n38469             NaN              NaN  Expanding brake (drum brake)   \n38470             NaN              NaN  Expanding brake (drum brake)   \n38471             NaN              NaN  Expanding brake (drum brake)   \n\n                        Rear brakes Front tire Rear tire Front suspension  \\\n38467                           nan   2.25-24   2.25-24       Druid  fork   \n38468  Expanding brake (drum brake)   2.25-24   2.25-24       Druid  fork   \n38469  Expanding brake (drum brake)   2.25-24   2.25-24       Druid  fork   \n38470  Expanding brake (drum brake)   2.85-26   2.85-26               nan   \n38471  Expanding brake (drum brake)   2.85-26   2.85-26               nan   \n\n       Rear suspension  Color options  \n38467            Rigid            nan  \n38468            Rigid            nan  \n38469            Rigid            nan  \n38470              nan            nan  \n38471              nan            nan  \n\n[5 rows x 28 columns]",
      "text/html": "<div>\n<style scoped>\n    .dataframe tbody tr th:only-of-type {\n        vertical-align: middle;\n    }\n\n    .dataframe tbody tr th {\n        vertical-align: top;\n    }\n\n    .dataframe thead th {\n        text-align: right;\n    }\n</style>\n<table border=\"1\" class=\"dataframe\">\n  <thead>\n    <tr style=\"text-align: right;\">\n      <th></th>\n      <th>Brand</th>\n      <th>Model</th>\n      <th>Year</th>\n      <th>Category</th>\n      <th>Rating</th>\n      <th>Displacement (ccm)</th>\n      <th>Power (hp)</th>\n      <th>Torque (Nm)</th>\n      <th>Engine cylinder</th>\n      <th>Engine stroke</th>\n      <th>...</th>\n      <th>Dry weight (kg)</th>\n      <th>Wheelbase (mm)</th>\n      <th>Seat height (mm)</th>\n      <th>Front brakes</th>\n      <th>Rear brakes</th>\n      <th>Front tire</th>\n      <th>Rear tire</th>\n      <th>Front suspension</th>\n      <th>Rear suspension</th>\n      <th>Color options</th>\n    </tr>\n  </thead>\n  <tbody>\n    <tr>\n      <th>38467</th>\n      <td>zündapp</td>\n      <td>z 22</td>\n      <td>1924</td>\n      <td>Sport</td>\n      <td>NaN</td>\n      <td>211.0</td>\n      <td>2.3</td>\n      <td>NaN</td>\n      <td>Single cylinder</td>\n      <td>two-stroke</td>\n      <td>...</td>\n      <td>NaN</td>\n      <td>NaN</td>\n      <td>NaN</td>\n      <td>nan</td>\n      <td>nan</td>\n      <td>2.25-24</td>\n      <td>2.25-24</td>\n      <td>Druid  fork</td>\n      <td>Rigid</td>\n      <td>nan</td>\n    </tr>\n    <tr>\n      <th>38468</th>\n      <td>zündapp</td>\n      <td>z 249</td>\n      <td>1923</td>\n      <td>Sport</td>\n      <td>NaN</td>\n      <td>249.0</td>\n      <td>2.8</td>\n      <td>NaN</td>\n      <td>Single cylinder</td>\n      <td>two-stroke</td>\n      <td>...</td>\n      <td>76.0</td>\n      <td>NaN</td>\n      <td>NaN</td>\n      <td>Expanding brake (drum brake)</td>\n      <td>Expanding brake (drum brake)</td>\n      <td>2.25-24</td>\n      <td>2.25-24</td>\n      <td>Druid  fork</td>\n      <td>Rigid</td>\n      <td>nan</td>\n    </tr>\n    <tr>\n      <th>38469</th>\n      <td>zündapp</td>\n      <td>z 249</td>\n      <td>1924</td>\n      <td>Sport</td>\n      <td>NaN</td>\n      <td>249.0</td>\n      <td>2.8</td>\n      <td>NaN</td>\n      <td>Single cylinder</td>\n      <td>two-stroke</td>\n      <td>...</td>\n      <td>76.0</td>\n      <td>NaN</td>\n      <td>NaN</td>\n      <td>Expanding brake (drum brake)</td>\n      <td>Expanding brake (drum brake)</td>\n      <td>2.25-24</td>\n      <td>2.25-24</td>\n      <td>Druid  fork</td>\n      <td>Rigid</td>\n      <td>nan</td>\n    </tr>\n    <tr>\n      <th>38470</th>\n      <td>zündapp</td>\n      <td>z 300</td>\n      <td>1928</td>\n      <td>Sport</td>\n      <td>NaN</td>\n      <td>298.0</td>\n      <td>26.0</td>\n      <td>NaN</td>\n      <td>Single cylinder</td>\n      <td>two-stroke</td>\n      <td>...</td>\n      <td>105.0</td>\n      <td>NaN</td>\n      <td>NaN</td>\n      <td>Expanding brake (drum brake)</td>\n      <td>Expanding brake (drum brake)</td>\n      <td>2.85-26</td>\n      <td>2.85-26</td>\n      <td>nan</td>\n      <td>nan</td>\n      <td>nan</td>\n    </tr>\n    <tr>\n      <th>38471</th>\n      <td>zündapp</td>\n      <td>z 300</td>\n      <td>1929</td>\n      <td>Sport</td>\n      <td>NaN</td>\n      <td>298.0</td>\n      <td>26.0</td>\n      <td>NaN</td>\n      <td>Single cylinder</td>\n      <td>two-stroke</td>\n      <td>...</td>\n      <td>105.0</td>\n      <td>NaN</td>\n      <td>NaN</td>\n      <td>Expanding brake (drum brake)</td>\n      <td>Expanding brake (drum brake)</td>\n      <td>2.85-26</td>\n      <td>2.85-26</td>\n      <td>nan</td>\n      <td>nan</td>\n      <td>nan</td>\n    </tr>\n  </tbody>\n</table>\n<p>5 rows × 28 columns</p>\n</div>"
     },
     "metadata": {}
    }
   ]
  },
  {
   "cell_type": "markdown",
   "source": "When the column is object, we cannot perform any string operations on it. Because object column can all be numbers, or a mixture of strings, integers or floats.",
   "metadata": {
    "cell_id": "dca050fa309649849c4d47b960273f6b",
    "tags": [],
    "deepnote_cell_type": "markdown",
    "deepnote_cell_height": 74.78125
   }
  },
  {
   "cell_type": "code",
   "metadata": {
    "cell_id": "41d7b57855894119b5634b43faeb1499",
    "tags": [],
    "deepnote_to_be_reexecuted": false,
    "source_hash": "3da380da",
    "execution_start": 1653888349535,
    "execution_millis": 736,
    "deepnote_cell_type": "code",
    "deepnote_cell_height": 737
   },
   "source": "cat_cols = data.select_dtypes(include=['object']).columns\ndata[cat_cols] = data[cat_cols].astype('str')\ndata.info()",
   "execution_count": null,
   "outputs": [
    {
     "name": "stdout",
     "text": "<class 'pandas.core.frame.DataFrame'>\nRangeIndex: 38472 entries, 0 to 38471\nData columns (total 28 columns):\n #   Column               Non-Null Count  Dtype  \n---  ------               --------------  -----  \n 0   Brand                38472 non-null  object \n 1   Model                38472 non-null  object \n 2   Year                 38472 non-null  int64  \n 3   Category             38472 non-null  object \n 4   Rating               21788 non-null  float64\n 5   Displacement (ccm)   37461 non-null  float64\n 6   Power (hp)           26110 non-null  float64\n 7   Torque (Nm)          16634 non-null  float64\n 8   Engine cylinder      38472 non-null  object \n 9   Engine stroke        38472 non-null  object \n 10  Gearbox              38472 non-null  object \n 11  Bore (mm)            28689 non-null  float64\n 12  Stroke (mm)          38472 non-null  object \n 13  Fuel capacity (lts)  31704 non-null  float64\n 14  Fuel system          38472 non-null  object \n 15  Fuel control         38472 non-null  object \n 16  Cooling system       38472 non-null  object \n 17  Transmission type    38472 non-null  object \n 18  Dry weight (kg)      22483 non-null  float64\n 19  Wheelbase (mm)       25493 non-null  float64\n 20  Seat height (mm)     24182 non-null  float64\n 21  Front brakes         38472 non-null  object \n 22  Rear brakes          38472 non-null  object \n 23  Front tire           38472 non-null  object \n 24  Rear tire            38472 non-null  object \n 25  Front suspension     38472 non-null  object \n 26  Rear suspension      38472 non-null  object \n 27  Color options        38472 non-null  object \ndtypes: float64(9), int64(1), object(18)\nmemory usage: 8.2+ MB\n",
     "output_type": "stream"
    }
   ]
  },
  {
   "cell_type": "code",
   "metadata": {
    "cell_id": "dca23faa9bf2462eb818df058c937612",
    "tags": [],
    "deepnote_to_be_reexecuted": false,
    "source_hash": "ff30422c",
    "execution_start": 1653889304680,
    "execution_millis": 372,
    "deepnote_cell_type": "code",
    "deepnote_cell_height": 214.125,
    "deepnote_output_heights": [
     117.125
    ]
   },
   "source": "cat_cols",
   "execution_count": null,
   "outputs": [
    {
     "output_type": "execute_result",
     "execution_count": 37,
     "data": {
      "text/plain": "Index(['Brand', 'Model', 'Category', 'Engine cylinder', 'Engine stroke',\n       'Gearbox', 'Stroke (mm)', 'Fuel system', 'Fuel control',\n       'Cooling system', 'Transmission type', 'Front brakes', 'Rear brakes',\n       'Front tire', 'Rear tire', 'Front suspension', 'Rear suspension',\n       'Color options'],\n      dtype='object')"
     },
     "metadata": {}
    }
   ]
  },
  {
   "cell_type": "code",
   "metadata": {
    "cell_id": "acaa8c178b3d489a8ed8f9528ca92b31",
    "tags": [],
    "deepnote_to_be_reexecuted": false,
    "source_hash": "a8c9ee1a",
    "execution_start": 1653888853346,
    "execution_millis": 18,
    "deepnote_cell_type": "code",
    "deepnote_cell_height": 207,
    "deepnote_output_heights": [
     251.4375
    ]
   },
   "source": "trans = [('categorical_transformer', OrdinalEncoder(), cat_cols)]\ncol_trans = ColumnTransformer(transformers=trans, remainder = 'passthrough')\n\nencoder = OrdinalEncoder()\n\nimputer = KNNImputer(n_neighbors=3)\n\nscaler = MinMaxScaler(feature_range=(0,1))",
   "execution_count": null,
   "outputs": []
  },
  {
   "cell_type": "code",
   "metadata": {
    "cell_id": "88fc545272ba4ff8920757070cc166e4",
    "tags": [],
    "deepnote_to_be_reexecuted": false,
    "source_hash": "7db3ee94",
    "execution_start": 1653888854849,
    "execution_millis": 450193,
    "deepnote_cell_type": "code",
    "deepnote_cell_height": 348.4375,
    "deepnote_output_heights": [
     251.4375
    ]
   },
   "source": "",
   "execution_count": null,
   "outputs": [
    {
     "output_type": "execute_result",
     "execution_count": 36,
     "data": {
      "text/plain": "array([[0.00000000e+00, 4.21400000e+03, 9.00000000e+00, ...,\n        1.21200000e+03, 2.44666667e+02, 1.82333333e+02],\n       [0.00000000e+00, 7.22700000e+03, 1.20000000e+01, ...,\n        1.12600000e+03, 4.79666667e+02, 1.76666667e+02],\n       [0.00000000e+00, 7.22800000e+03, 9.00000000e+00, ...,\n        1.21200000e+03, 3.54666667e+02, 2.12000000e+02],\n       ...,\n       [5.75000000e+02, 1.74300000e+04, 1.20000000e+01, ...,\n        1.87000000e+02, 1.71333333e+02, 1.38000000e+02],\n       [5.75000000e+02, 1.74380000e+04, 1.20000000e+01, ...,\n        3.47000000e+02, 3.06000000e+02, 2.33333333e+02],\n       [5.75000000e+02, 1.74380000e+04, 1.20000000e+01, ...,\n        3.47000000e+02, 3.06000000e+02, 2.33333333e+02]])"
     },
     "metadata": {}
    }
   ]
  },
  {
   "cell_type": "markdown",
   "source": "## ***Make a pipeline***",
   "metadata": {
    "cell_id": "c794d05bf2454dd0994a3cb1912937ac",
    "tags": [],
    "deepnote_cell_type": "markdown",
    "deepnote_cell_height": 70
   }
  },
  {
   "cell_type": "markdown",
   "source": "*It may take 5-15 mins*",
   "metadata": {
    "cell_id": "ce39526334da42f683cbfc29a71503a5",
    "tags": [],
    "deepnote_cell_type": "markdown",
    "deepnote_cell_height": 52.390625
   }
  },
  {
   "cell_type": "code",
   "metadata": {
    "cell_id": "2a8b27c9cd7249dc8ba3ba09fa238a8f",
    "tags": [],
    "deepnote_to_be_reexecuted": true,
    "source_hash": "f32bba25",
    "deepnote_cell_type": "code",
    "deepnote_cell_height": 99
   },
   "source": "pipeline = make_pipeline(col_trans, encoder, imputer, scaler)\npipeline.fit_transform(data)",
   "execution_count": null,
   "outputs": []
  },
  {
   "cell_type": "markdown",
   "source": "## ***Save and load the pipeline***",
   "metadata": {
    "cell_id": "e4d646b5379c412c8b0de7514d25ee70",
    "tags": [],
    "deepnote_cell_type": "markdown",
    "deepnote_cell_height": 70
   }
  },
  {
   "cell_type": "markdown",
   "source": "*Joblib outperforms pickle in terms of memory consumption.*",
   "metadata": {
    "cell_id": "132dc9c893d34d97aae8b956dfc90d3e",
    "tags": [],
    "deepnote_cell_type": "markdown",
    "deepnote_cell_height": 52.390625
   }
  },
  {
   "cell_type": "code",
   "metadata": {
    "cell_id": "8ebde3c30dbf4973bc3f709f48a0077b",
    "tags": [],
    "deepnote_to_be_reexecuted": false,
    "source_hash": "f398e385",
    "execution_start": 1653889434271,
    "execution_millis": 452,
    "deepnote_cell_type": "code",
    "deepnote_cell_height": 144.1875
   },
   "source": "joblib.save(pipeline, 'pipeline.joblib')",
   "execution_count": null,
   "outputs": [
    {
     "output_type": "error",
     "ename": "AttributeError",
     "evalue": "module 'joblib' has no attribute 'save'",
     "traceback": [
      "\u001b[0;31m---------------------------------------------------------------------------\u001b[0m",
      "\u001b[0;31mAttributeError\u001b[0m                            Traceback (most recent call last)",
      "\u001b[0;32m<ipython-input-39-5c5233d6d4e0>\u001b[0m in \u001b[0;36m<module>\u001b[0;34m\u001b[0m\n\u001b[0;32m----> 1\u001b[0;31m \u001b[0mjoblib\u001b[0m\u001b[0;34m.\u001b[0m\u001b[0msave\u001b[0m\u001b[0;34m(\u001b[0m\u001b[0mpipeline\u001b[0m\u001b[0;34m,\u001b[0m \u001b[0;34m'pipeline.joblib'\u001b[0m\u001b[0;34m)\u001b[0m\u001b[0;34m\u001b[0m\u001b[0;34m\u001b[0m\u001b[0m\n\u001b[0m",
      "\u001b[0;31mAttributeError\u001b[0m: module 'joblib' has no attribute 'save'"
     ]
    }
   ]
  },
  {
   "cell_type": "code",
   "metadata": {
    "cell_id": "529f9cd83150476089fa4f02b76ecaa3",
    "tags": [],
    "deepnote_to_be_reexecuted": true,
    "source_hash": "b623e53d",
    "execution_start": 1653560683024,
    "owner_user_id": "f980b683-a8ec-434c-bd24-5ac038c8991a",
    "deepnote_cell_type": "code",
    "deepnote_cell_height": 81
   },
   "source": "pipeline = jblib.load('pipeline.joblib')",
   "execution_count": null,
   "outputs": []
  },
  {
   "cell_type": "markdown",
   "source": "<a style='text-decoration:none;line-height:16px;display:flex;color:#5B5B62;padding:10px;justify-content:end;' href='https://deepnote.com?utm_source=created-in-deepnote-cell&projectId=80067e42-29c6-4d8b-b22d-84d1b5bafdd2' target=\"_blank\">\n<img alt='Created in deepnote.com' style='display:inline;max-height:16px;margin:0px;margin-right:7.5px;' src='data:image/svg+xml;base64,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' > </img>\nCreated in <span style='font-weight:600;margin-left:4px;'>Deepnote</span></a>",
   "metadata": {
    "tags": [],
    "created_in_deepnote_cell": true,
    "deepnote_cell_type": "markdown"
   }
  }
 ],
 "nbformat": 4,
 "nbformat_minor": 2,
 "metadata": {
  "orig_nbformat": 2,
  "deepnote": {},
  "deepnote_notebook_id": "34ae5b0e-bf08-49c3-9258-ceb6315fc13b",
  "deepnote_execution_queue": []
 }
}